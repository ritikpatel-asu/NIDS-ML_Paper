{
  "cells": [
    {
      "cell_type": "markdown",
      "metadata": {
        "id": "3CwrRyRUoH7B"
      },
      "source": [
        "Data"
      ]
    },
    {
      "cell_type": "code",
      "execution_count": null,
      "metadata": {
        "id": "SiDbWWm7m03p"
      },
      "outputs": [],
      "source": [
        "import zipfile\n",
        "import pandas as pd\n",
        "\n",
        "# Column names based on KDD dataset documentation\n",
        "column_names = [\n",
        "    \"duration\", \"protocol_type\", \"service\", \"flag\", \"src_bytes\", \"dst_bytes\", \"land\",\n",
        "    \"wrong_fragment\", \"urgent\", \"hot\", \"num_failed_logins\", \"logged_in\", \"num_compromised\",\n",
        "    \"root_shell\", \"su_attempted\", \"num_root\", \"num_file_creations\", \"num_shells\",\n",
        "    \"num_access_files\", \"num_outbound_cmds\", \"is_host_login\", \"is_guest_login\", \"count\",\n",
        "    \"srv_count\", \"serror_rate\", \"srv_serror_rate\", \"rerror_rate\", \"srv_rerror_rate\",\n",
        "    \"same_srv_rate\", \"diff_srv_rate\", \"srv_diff_host_rate\", \"dst_host_count\",\n",
        "    \"dst_host_srv_count\", \"dst_host_same_srv_rate\", \"dst_host_diff_srv_rate\",\n",
        "    \"dst_host_same_src_port_rate\", \"dst_host_srv_diff_host_rate\", \"dst_host_serror_rate\",\n",
        "    \"dst_host_srv_serror_rate\", \"dst_host_rerror_rate\", \"dst_host_srv_rerror_rate\",\n",
        "    \"label\", \"extra\"\n",
        "]\n",
        "\n",
        "# Unzipping the files\n",
        "train_zip_path = '/content/KDDTrain+.txt (2).zip'\n",
        "test_zip_path = '/content/KDDTest+.txt (4).zip'\n",
        "\n",
        "with zipfile.ZipFile(train_zip_path, 'r') as train_zip:\n",
        "    train_zip.extractall('/path/to/content/KDDTrain+.txt (2).zip')\n",
        "with zipfile.ZipFile(test_zip_path, 'r') as test_zip:\n",
        "    test_zip.extractall('/path/to/content/KDDTest+.txt (4).zip')\n",
        "\n",
        "# Load the dataset with column names\n",
        "train_data = pd.read_csv('/content/KDDTrain+.txt (2).zip', header=None, names=column_names)\n",
        "test_data = pd.read_csv('/content/KDDTest+.txt (4).zip', header=None, names=column_names)\n"
      ]
    },
    {
      "cell_type": "code",
      "execution_count": null,
      "metadata": {
        "id": "YSJeL4CRph7s"
      },
      "outputs": [],
      "source": [
        "# Define binary target labels (normal = 0, attack = 1)\n",
        "train_data['label'] = train_data['label'].apply(lambda x: 0 if x == 'normal' else 1)\n",
        "test_data['label'] = test_data['label'].apply(lambda x: 0 if x == 'normal' else 1)\n",
        "\n",
        "# Separate features and target\n",
        "X_train = train_data.drop(columns=['label', 'extra'])\n",
        "y_train = train_data['label']\n",
        "X_test = test_data.drop(columns=['label', 'extra'])\n",
        "y_test = test_data['label']\n"
      ]
    },
    {
      "cell_type": "code",
      "execution_count": null,
      "metadata": {
        "colab": {
          "base_uri": "https://localhost:8080/"
        },
        "id": "UsRDjpN1plbT",
        "outputId": "4cdc1080-9a40-43ea-8d7f-a2b0ad40c954"
      },
      "outputs": [
        {
          "output_type": "stream",
          "name": "stdout",
          "text": [
            "Column names: ['duration', 'protocol_type', 'service', 'flag', 'src_bytes', 'dst_bytes', 'land', 'wrong_fragment', 'urgent', 'hot', 'num_failed_logins', 'logged_in', 'num_compromised', 'root_shell', 'su_attempted', 'num_root', 'num_file_creations', 'num_shells', 'num_access_files', 'num_outbound_cmds', 'is_host_login', 'is_guest_login', 'count', 'srv_count', 'serror_rate', 'srv_serror_rate', 'rerror_rate', 'srv_rerror_rate', 'same_srv_rate', 'diff_srv_rate', 'srv_diff_host_rate', 'dst_host_count', 'dst_host_srv_count', 'dst_host_same_srv_rate', 'dst_host_diff_srv_rate', 'dst_host_same_src_port_rate', 'dst_host_srv_diff_host_rate', 'dst_host_serror_rate', 'dst_host_srv_serror_rate', 'dst_host_rerror_rate', 'dst_host_srv_rerror_rate']\n",
            "Class distribution in y_train: {0: 67343, 1: 58630}\n",
            "Class distribution in y_test: {1: 12833, 0: 9711}\n"
          ]
        }
      ],
      "source": [
        "# Check class distribution and show column names\n",
        "print(\"Column names:\", X_train.columns.tolist())\n",
        "print(\"Class distribution in y_train:\", y_train.value_counts().to_dict())\n",
        "print(\"Class distribution in y_test:\", y_test.value_counts().to_dict())\n"
      ]
    },
    {
      "cell_type": "code",
      "execution_count": null,
      "metadata": {
        "id": "W8TDI-OQpoW2"
      },
      "outputs": [],
      "source": [
        "from sklearn.preprocessing import LabelEncoder\n",
        "\n",
        "# Identify and encode categorical features\n",
        "cat_features = ['protocol_type', 'service', 'flag']\n",
        "for col in cat_features:\n",
        "    le = LabelEncoder()\n",
        "    X_train[col] = le.fit_transform(X_train[col])\n",
        "    X_test[col] = le.transform(X_test[col])\n"
      ]
    },
    {
      "cell_type": "code",
      "execution_count": null,
      "metadata": {
        "id": "p7baV3yIpsQE"
      },
      "outputs": [],
      "source": [
        "from sklearn.preprocessing import StandardScaler\n",
        "\n",
        "# Standardize features\n",
        "scaler = StandardScaler()\n",
        "X_train = scaler.fit_transform(X_train)\n",
        "X_test = scaler.transform(X_test)\n"
      ]
    },
    {
      "cell_type": "code",
      "execution_count": null,
      "metadata": {
        "colab": {
          "base_uri": "https://localhost:8080/"
        },
        "id": "EbjwWST-ptJ3",
        "outputId": "d1ac8173-9caa-4fad-eba2-81f0157cd532"
      },
      "outputs": [
        {
          "output_type": "stream",
          "name": "stderr",
          "text": [
            "/usr/local/lib/python3.10/dist-packages/sklearn/ensemble/_weight_boosting.py:527: FutureWarning: The SAMME.R algorithm (the default) is deprecated and will be removed in 1.6. Use the SAMME algorithm to circumvent this warning.\n",
            "  warnings.warn(\n"
          ]
        },
        {
          "output_type": "stream",
          "name": "stdout",
          "text": [
            "AdaBoost Results:\n",
            "Accuracy: 78.25%\n",
            "Precision: 96.72%\n",
            "Recall: 63.95%\n",
            "F1 Score: 77.00%\n"
          ]
        }
      ],
      "source": [
        "from sklearn.ensemble import AdaBoostClassifier\n",
        "from sklearn.metrics import accuracy_score, precision_score, recall_score, f1_score\n",
        "\n",
        "# Train AdaBoost classifier\n",
        "ada_clf = AdaBoostClassifier(n_estimators=100, random_state=42)\n",
        "ada_clf.fit(X_train, y_train)\n",
        "\n",
        "# Predictions and evaluation in percentage format\n",
        "y_pred_ada = ada_clf.predict(X_test)\n",
        "ada_accuracy = accuracy_score(y_test, y_pred_ada) * 100\n",
        "ada_precision = precision_score(y_test, y_pred_ada) * 100\n",
        "ada_recall = recall_score(y_test, y_pred_ada) * 100\n",
        "ada_f1 = f1_score(y_test, y_pred_ada) * 100\n",
        "\n",
        "print(\"AdaBoost Results:\")\n",
        "print(f\"Accuracy: {ada_accuracy:.2f}%\")\n",
        "print(f\"Precision: {ada_precision:.2f}%\")\n",
        "print(f\"Recall: {ada_recall:.2f}%\")\n",
        "print(f\"F1 Score: {ada_f1:.2f}%\")\n"
      ]
    },
    {
      "cell_type": "code",
      "execution_count": null,
      "metadata": {
        "colab": {
          "base_uri": "https://localhost:8080/"
        },
        "id": "ARmhzTMOpva7",
        "outputId": "6341ea5a-552e-44e3-d5c3-deab890aa94f"
      },
      "outputs": [
        {
          "output_type": "stream",
          "name": "stderr",
          "text": [
            "/usr/local/lib/python3.10/dist-packages/xgboost/core.py:158: UserWarning: [00:09:21] WARNING: /workspace/src/learner.cc:740: \n",
            "Parameters: { \"use_label_encoder\" } are not used.\n",
            "\n",
            "  warnings.warn(smsg, UserWarning)\n"
          ]
        },
        {
          "output_type": "stream",
          "name": "stdout",
          "text": [
            "XGBoost Results:\n",
            "Accuracy: 80.09%\n",
            "Precision: 96.78%\n",
            "Recall: 67.26%\n",
            "F1 Score: 79.36%\n"
          ]
        }
      ],
      "source": [
        "from xgboost import XGBClassifier\n",
        "\n",
        "# Train XGBoost classifier\n",
        "xgb_clf = XGBClassifier(n_estimators=100, use_label_encoder=False, eval_metric='logloss', random_state=42)\n",
        "xgb_clf.fit(X_train, y_train)\n",
        "\n",
        "# Predictions and evaluation in percentage format\n",
        "y_pred_xgb = xgb_clf.predict(X_test)\n",
        "xgb_accuracy = accuracy_score(y_test, y_pred_xgb) * 100\n",
        "xgb_precision = precision_score(y_test, y_pred_xgb) * 100\n",
        "xgb_recall = recall_score(y_test, y_pred_xgb) * 100\n",
        "xgb_f1 = f1_score(y_test, y_pred_xgb) * 100\n",
        "\n",
        "print(\"XGBoost Results:\")\n",
        "print(f\"Accuracy: {xgb_accuracy:.2f}%\")\n",
        "print(f\"Precision: {xgb_precision:.2f}%\")\n",
        "print(f\"Recall: {xgb_recall:.2f}%\")\n",
        "print(f\"F1 Score: {xgb_f1:.2f}%\")\n"
      ]
    },
    {
      "cell_type": "code",
      "execution_count": null,
      "metadata": {
        "colab": {
          "base_uri": "https://localhost:8080/"
        },
        "id": "JCe5v9zNqWHa",
        "outputId": "b0df3e04-c698-41ed-f952-b0318deb3178"
      },
      "outputs": [
        {
          "output_type": "stream",
          "name": "stdout",
          "text": [
            "AdaBoost Classification Report:\n",
            "              precision    recall  f1-score   support\n",
            "\n",
            "      normal       0.67      0.97      0.79      9711\n",
            "      attack       0.97      0.64      0.77     12833\n",
            "\n",
            "    accuracy                           0.78     22544\n",
            "   macro avg       0.82      0.81      0.78     22544\n",
            "weighted avg       0.84      0.78      0.78     22544\n",
            "\n",
            "XGBoost Classification Report:\n",
            "              precision    recall  f1-score   support\n",
            "\n",
            "      normal       0.69      0.97      0.81      9711\n",
            "      attack       0.97      0.67      0.79     12833\n",
            "\n",
            "    accuracy                           0.80     22544\n",
            "   macro avg       0.83      0.82      0.80     22544\n",
            "weighted avg       0.85      0.80      0.80     22544\n",
            "\n"
          ]
        }
      ],
      "source": [
        "from sklearn.metrics import classification_report\n",
        "\n",
        "# Define class names\n",
        "class_names = ['normal', 'attack']\n",
        "\n",
        "# AdaBoost Classification Report\n",
        "print(\"AdaBoost Classification Report:\")\n",
        "print(classification_report(y_test, y_pred_ada, target_names=class_names))\n",
        "\n",
        "# XGBoost Classification Report\n",
        "print(\"XGBoost Classification Report:\")\n",
        "print(classification_report(y_test, y_pred_xgb, target_names=class_names))\n"
      ]
    },
    {
      "cell_type": "code",
      "execution_count": null,
      "metadata": {
        "colab": {
          "base_uri": "https://localhost:8080/",
          "height": 355
        },
        "id": "OhOhAI2pqkkc",
        "outputId": "a0d21f7e-a753-44d2-eded-e7727cbb8ddb"
      },
      "outputs": [
        {
          "output_type": "display_data",
          "data": {
            "text/plain": [
              "<Figure size 1400x600 with 2 Axes>"
            ],
            "image/png": "[encoded data removed]"
          },
          "metadata": {}
        }
      ],
      "source": [
        "import matplotlib.pyplot as plt\n",
        "import numpy as np\n",
        "\n",
        "# Classification report data for AdaBoost and XGBoost\n",
        "ada_report = classification_report(y_test, y_pred_ada, target_names=class_names, output_dict=True)\n",
        "xgb_report = classification_report(y_test, y_pred_xgb, target_names=class_names, output_dict=True)\n",
        "\n",
        "# Extract scores for precision, recall, and F1-score\n",
        "metrics = ['precision', 'recall', 'f1-score']\n",
        "classes = ['normal', 'attack']\n",
        "ada_scores = [[ada_report[class_name][metric] for metric in metrics] for class_name in classes]\n",
        "xgb_scores = [[xgb_report[class_name][metric] for metric in metrics] for class_name in classes]\n",
        "\n",
        "# Plotting\n",
        "x = np.arange(len(metrics))\n",
        "width = 0.35\n",
        "fig, ax = plt.subplots(1, 2, figsize=(14, 6))\n",
        "\n",
        "# AdaBoost\n",
        "for i, class_name in enumerate(classes):\n",
        "    ax[0].bar(x + i * width, ada_scores[i], width, label=class_name)\n",
        "ax[0].set_xticks(x + width / 2)\n",
        "ax[0].set_xticklabels(metrics)\n",
        "ax[0].set_ylim(0, 1)\n",
        "ax[0].set_ylabel('Score')\n",
        "ax[0].set_title('AdaBoost Performance Metrics by Class')\n",
        "ax[0].legend(title=\"Class\")\n",
        "\n",
        "# XGBoost\n",
        "for i, class_name in enumerate(classes):\n",
        "    ax[1].bar(x + i * width, xgb_scores[i], width, label=class_name)\n",
        "ax[1].set_xticks(x + width / 2)\n",
        "ax[1].set_xticklabels(metrics)\n",
        "ax[1].set_ylim(0, 1)\n",
        "ax[1].set_ylabel('Score')\n",
        "ax[1].set_title('XGBoost Performance Metrics by Class')\n",
        "ax[1].legend(title=\"Class\")\n",
        "\n",
        "plt.show()\n"
      ]
    },
    {
      "cell_type": "code",
      "execution_count": null,
      "metadata": {
        "colab": {
          "base_uri": "https://localhost:8080/",
          "height": 326
        },
        "id": "5pknJKWYqmi0",
        "outputId": "38807588-bd1e-49cf-c609-be04073d90d0"
      },
      "outputs": [
        {
          "output_type": "display_data",
          "data": {
            "text/plain": [
              "<Figure size 1400x600 with 4 Axes>"
            ],
            "image/png": "[encoded data removed]"
          },
          "metadata": {}
        }
      ],
      "source": [
        "from sklearn.metrics import ConfusionMatrixDisplay\n",
        "\n",
        "# Plot confusion matrices for AdaBoost and XGBoost\n",
        "fig, ax = plt.subplots(1, 2, figsize=(14, 6))\n",
        "\n",
        "# AdaBoost Confusion Matrix\n",
        "ConfusionMatrixDisplay.from_predictions(y_test, y_pred_ada, display_labels=class_names, cmap='Blues', ax=ax[0])\n",
        "ax[0].set_title(\"AdaBoost Confusion Matrix\")\n",
        "\n",
        "# XGBoost Confusion Matrix\n",
        "ConfusionMatrixDisplay.from_predictions(y_test, y_pred_xgb, display_labels=class_names, cmap='Blues', ax=ax[1])\n",
        "ax[1].set_title(\"XGBoost Confusion Matrix\")\n",
        "\n",
        "plt.show()\n"
      ]
    },
    {
      "cell_type": "code",
      "source": [
        "import pandas as pd\n",
        "import numpy as np\n",
        "from sklearn.model_selection import train_test_split\n",
        "from sklearn.preprocessing import LabelEncoder, OneHotEncoder, StandardScaler\n",
        "from sklearn.compose import ColumnTransformer\n",
        "from sklearn.pipeline import Pipeline\n",
        "from sklearn.ensemble import AdaBoostClassifier\n",
        "from xgboost import XGBClassifier\n",
        "from sklearn.metrics import classification_report, accuracy_score\n",
        "from sklearn.exceptions import UndefinedMetricWarning\n",
        "import warnings\n",
        "\n",
        "\n",
        "# Load the datasets\n",
        "train_data_path = '/content/KDDTrain+.txt (2).zip'\n",
        "test_data_path = '/content/KDDTest+.txt (4).zip'\n",
        "\n",
        "# Column names for the dataset\n",
        "column_names = ['duration', 'protocol_type', 'service', 'flag', 'src_bytes', 'dst_bytes',\n",
        "                'land', 'wrong_fragment', 'urgent', 'hot', 'num_failed_logins', 'logged_in',\n",
        "                'num_compromised', 'root_shell', 'su_attempted', 'num_root', 'num_file_creations',\n",
        "                'num_shells', 'num_access_files', 'num_outbound_cmds', 'is_host_login',\n",
        "                'is_guest_login', 'count', 'srv_count', 'serror_rate', 'srv_serror_rate',\n",
        "                'rerror_rate', 'srv_rerror_rate', 'same_srv_rate', 'diff_srv_rate',\n",
        "                'srv_diff_host_rate', 'dst_host_count', 'dst_host_srv_count', 'dst_host_same_srv_rate',\n",
        "                'dst_host_diff_srv_rate', 'dst_host_same_src_port_rate', 'dst_host_srv_diff_host_rate',\n",
        "                'dst_host_serror_rate', 'dst_host_srv_serror_rate', 'dst_host_rerror_rate',\n",
        "                'dst_host_srv_rerror_rate', 'label', 'difficulty']\n",
        "\n",
        "# Load the training and test datasets\n",
        "train_df = pd.read_csv(train_data_path, names=column_names)\n",
        "test_df = pd.read_csv(test_data_path, names=column_names)\n",
        "\n",
        "# Select 10 attributes for X (excluding the attack label)\n",
        "X_columns = ['duration', 'protocol_type', 'service', 'flag', 'src_bytes',\n",
        "             'dst_bytes', 'land', 'hot', 'logged_in', 'count']\n",
        "\n",
        "# Select 10 attributes for y (including the attack label and other attributes)\n",
        "y_columns = ['label', 'num_failed_logins', 'num_compromised', 'root_shell', 'num_root',\n",
        "             'num_file_creations', 'num_shells', 'num_access_files', 'srv_count', 'srv_serror_rate']\n",
        "\n",
        "# Separate features (X) and target (y)\n",
        "X_train = train_df[X_columns]\n",
        "y_train = train_df[y_columns]\n",
        "X_test = test_df[X_columns]\n",
        "y_test = test_df[y_columns]\n",
        "\n",
        "# Handle categorical variables with one-hot encoding and numeric features with scaling\n",
        "categorical_features = ['protocol_type', 'service', 'flag']\n",
        "numeric_features = list(set(X_columns) - set(categorical_features))\n",
        "\n",
        "# Label encode the attack type in the y dataset using .loc to avoid warnings\n",
        "label_encoder = LabelEncoder()\n",
        "y_train.loc[:, 'label'] = label_encoder.fit_transform(y_train['label'])\n",
        "\n",
        "# Handle unseen labels in the test set by including them in the label encoder classes\n",
        "y_test_unseen_labels = np.setdiff1d(y_test['label'].unique(), label_encoder.classes_)\n",
        "label_encoder.classes_ = np.append(label_encoder.classes_, y_test_unseen_labels)\n",
        "\n",
        "# Transform the test labels using the updated label encoder\n",
        "y_test.loc[:, 'label'] = label_encoder.transform(y_test['label'])\n",
        "\n",
        "# Preprocessing pipeline for X: scaling for numeric data and one-hot encoding for categorical data\n",
        "preprocessor_X = ColumnTransformer(transformers=[\n",
        "    ('num', StandardScaler(), numeric_features),\n",
        "    ('cat', OneHotEncoder(), categorical_features)\n",
        "])\n",
        "\n",
        "# Preprocessing pipeline for y: scaling the numeric attributes\n",
        "numeric_y_columns = y_columns[1:]\n",
        "preprocessor_y = StandardScaler()\n",
        "\n",
        "# Apply the preprocessing to y (scaling the numeric columns)\n",
        "y_train_scaled = preprocessor_y.fit_transform(y_train[numeric_y_columns])\n",
        "y_test_scaled = preprocessor_y.transform(y_test[numeric_y_columns])\n",
        "\n",
        "# Combine the scaled y columns with the encoded attack label (concatenate horizontally)\n",
        "y_train_final = np.concatenate([y_train_scaled, y_train[['label']]], axis=1)\n",
        "y_test_final = np.concatenate([y_test_scaled, y_test[['label']]], axis=1)\n",
        "\n",
        "# Define AdaBoost model\n",
        "ada_model = Pipeline(steps=[\n",
        "    ('preprocessor', preprocessor_X),\n",
        "    ('classifier', AdaBoostClassifier(n_estimators=50, random_state=42))\n",
        "])\n",
        "\n",
        "# Define XGBoost model\n",
        "xgb_model = Pipeline(steps=[\n",
        "    ('preprocessor', preprocessor_X),\n",
        "    ('classifier', XGBClassifier(use_label_encoder=False, eval_metric='mlogloss', random_state=42))\n",
        "])\n",
        "\n",
        "# Train the AdaBoost classifier on X and multi-class y (y_train_final)\n",
        "ada_model.fit(X_train, y_train_final[:, -1].astype(int))\n",
        "y_pred_ada = ada_model.predict(X_test)\n",
        "\n",
        "# Train the XGBoost classifier on X and multi-class y (y_train_final)\n",
        "xgb_model.fit(X_train, y_train_final[:, -1].astype(int))\n",
        "y_pred_xgb = xgb_model.predict(X_test)\n",
        "\n",
        "warnings.filterwarnings(\"ignore\", category=UndefinedMetricWarning)\n",
        "\n",
        "# Evaluation of AdaBoost\n",
        "ada_accuracy = accuracy_score(y_test_final[:, -1].astype(int), y_pred_ada) * 100\n",
        "print(\"AdaBoost Classifier Report:\\n\", classification_report(y_test_final[:, -1].astype(int), y_pred_ada))\n",
        "print(f\"AdaBoost Accuracy: {ada_accuracy:.2f}%\")\n",
        "\n",
        "# Evaluation of XGBoost\n",
        "xgb_accuracy = accuracy_score(y_test_final[:, -1].astype(int), y_pred_xgb) * 100\n",
        "print(\"XGBoost Classifier Report:\\n\", classification_report(y_test_final[:, -1].astype(int), y_pred_xgb))\n",
        "print(f\"XGBoost Accuracy: {xgb_accuracy:.2f}%\")\n",
        "\n",
        "\n"
      ],
      "metadata": {
        "colab": {
          "base_uri": "https://localhost:8080/"
        },
        "id": "oVFFEl9Ul-C5",
        "outputId": "f028a505-ca86-4e88-d035-11b3ed92b699"
      },
      "execution_count": null,
      "outputs": [
        {
          "output_type": "stream",
          "name": "stderr",
          "text": [
            "/usr/local/lib/python3.10/dist-packages/sklearn/ensemble/_weight_boosting.py:527: FutureWarning: The SAMME.R algorithm (the default) is deprecated and will be removed in 1.6. Use the SAMME algorithm to circumvent this warning.\n",
            "  warnings.warn(\n",
            "/usr/local/lib/python3.10/dist-packages/xgboost/core.py:158: UserWarning: [02:50:19] WARNING: /workspace/src/learner.cc:740: \n",
            "Parameters: { \"use_label_encoder\" } are not used.\n",
            "\n",
            "  warnings.warn(smsg, UserWarning)\n"
          ]
        },
        {
          "output_type": "stream",
          "name": "stdout",
          "text": [
            "AdaBoost Classifier Report:\n",
            "               precision    recall  f1-score   support\n",
            "\n",
            "           0       0.00      0.00      0.00       359\n",
            "           1       0.00      0.00      0.00        20\n",
            "           2       0.00      0.00      0.00         3\n",
            "           3       0.00      0.00      0.00      1231\n",
            "           4       0.00      0.00      0.00         1\n",
            "           5       0.00      0.00      0.00       141\n",
            "           6       0.00      0.00      0.00         7\n",
            "           7       0.00      0.00      0.00         2\n",
            "           8       0.00      0.00      0.00        18\n",
            "           9       0.57      1.00      0.73      4657\n",
            "          10       0.00      0.00      0.00        73\n",
            "          11       0.65      0.97      0.78      9711\n",
            "          12       0.00      0.00      0.00         2\n",
            "          13       0.00      0.00      0.00         2\n",
            "          14       0.00      0.00      0.00        41\n",
            "          15       0.00      0.00      0.00       157\n",
            "          16       0.00      0.00      0.00        13\n",
            "          17       0.00      0.00      0.00       735\n",
            "          18       0.00      0.00      0.00       665\n",
            "          20       0.00      0.00      0.00        12\n",
            "          22       0.00      0.00      0.00       944\n",
            "          23       0.00      0.00      0.00       737\n",
            "          24       0.00      0.00      0.00       133\n",
            "          25       0.00      0.00      0.00       293\n",
            "          26       0.00      0.00      0.00       996\n",
            "          27       0.00      0.00      0.00        17\n",
            "          28       0.00      0.00      0.00       685\n",
            "          29       0.00      0.00      0.00        15\n",
            "          30       0.00      0.00      0.00       319\n",
            "          31       0.00      0.00      0.00        14\n",
            "          32       0.00      0.00      0.00       178\n",
            "          33       0.00      0.00      0.00       331\n",
            "          34       0.00      0.00      0.00         2\n",
            "          35       0.00      0.00      0.00         2\n",
            "          36       0.00      0.00      0.00         2\n",
            "          37       0.00      0.00      0.00         9\n",
            "          38       0.00      0.00      0.00         4\n",
            "          39       0.00      0.00      0.00        13\n",
            "\n",
            "    accuracy                           0.62     22544\n",
            "   macro avg       0.03      0.05      0.04     22544\n",
            "weighted avg       0.40      0.62      0.49     22544\n",
            "\n",
            "AdaBoost Accuracy: 62.26%\n",
            "XGBoost Classifier Report:\n",
            "               precision    recall  f1-score   support\n",
            "\n",
            "           0       0.44      1.00      0.61       359\n",
            "           1       0.67      0.50      0.57        20\n",
            "           2       0.50      0.33      0.40         3\n",
            "           3       0.00      0.00      0.00      1231\n",
            "           4       0.04      1.00      0.08         1\n",
            "           5       0.30      1.00      0.47       141\n",
            "           6       1.00      1.00      1.00         7\n",
            "           7       0.00      0.00      0.00         2\n",
            "           8       0.00      0.00      0.00        18\n",
            "           9       0.90      0.98      0.94      4657\n",
            "          10       0.89      1.00      0.94        73\n",
            "          11       0.68      0.97      0.80      9711\n",
            "          12       1.00      0.50      0.67         2\n",
            "          13       1.00      0.50      0.67         2\n",
            "          14       0.55      0.88      0.67        41\n",
            "          15       0.46      0.85      0.59       157\n",
            "          16       0.00      0.00      0.00        13\n",
            "          17       0.54      0.95      0.69       735\n",
            "          18       1.00      1.00      1.00       665\n",
            "          20       0.24      1.00      0.39        12\n",
            "          22       0.00      0.00      0.00       944\n",
            "          23       0.00      0.00      0.00       737\n",
            "          24       0.00      0.00      0.00       133\n",
            "          25       0.00      0.00      0.00       293\n",
            "          26       0.00      0.00      0.00       996\n",
            "          27       0.00      0.00      0.00        17\n",
            "          28       0.00      0.00      0.00       685\n",
            "          29       0.00      0.00      0.00        15\n",
            "          30       0.00      0.00      0.00       319\n",
            "          31       0.00      0.00      0.00        14\n",
            "          32       0.00      0.00      0.00       178\n",
            "          33       0.00      0.00      0.00       331\n",
            "          34       0.00      0.00      0.00         2\n",
            "          35       0.00      0.00      0.00         2\n",
            "          36       0.00      0.00      0.00         2\n",
            "          37       0.00      0.00      0.00         9\n",
            "          38       0.00      0.00      0.00         4\n",
            "          39       0.00      0.00      0.00        13\n",
            "\n",
            "    accuracy                           0.71     22544\n",
            "   macro avg       0.27      0.35      0.28     22544\n",
            "weighted avg       0.55      0.71      0.61     22544\n",
            "\n",
            "XGBoost Accuracy: 71.40%\n"
          ]
        }
      ]
    },
    {
      "cell_type": "code",
      "source": [
        "from sklearn.metrics import classification_report, accuracy_score\n",
        "\n",
        "# Convert predictions back to original class labels\n",
        "y_pred_ada_labels = label_encoder.inverse_transform(y_pred_ada.astype(int))\n",
        "y_pred_xgb_labels = label_encoder.inverse_transform(y_pred_xgb.astype(int))\n",
        "y_test_labels = label_encoder.inverse_transform(y_test_final[:, -1].astype(int))\n",
        "\n",
        "# Evaluation of AdaBoost\n",
        "ada_accuracy = accuracy_score(y_test_labels, y_pred_ada_labels) * 100\n",
        "print(\"AdaBoost Classifier Report:\\n\", classification_report(y_test_labels, y_pred_ada_labels))\n",
        "print(f\"AdaBoost Accuracy: {ada_accuracy:.2f}%\")\n",
        "\n",
        "# Evaluation of XGBoost\n",
        "xgb_accuracy = accuracy_score(y_test_labels, y_pred_xgb_labels) * 100\n",
        "print(\"XGBoost Classifier Report:\\n\", classification_report(y_test_labels, y_pred_xgb_labels))\n",
        "print(f\"XGBoost Accuracy: {xgb_accuracy:.2f}%\")\n",
        "\n",
        "\n"
      ],
      "metadata": {
        "colab": {
          "base_uri": "https://localhost:8080/"
        },
        "id": "8lu4DxEZnESM",
        "outputId": "1985265a-5de5-4b17-fa65-663754f9d3a7"
      },
      "execution_count": null,
      "outputs": [
        {
          "output_type": "stream",
          "name": "stdout",
          "text": [
            "AdaBoost Classifier Report:\n",
            "                  precision    recall  f1-score   support\n",
            "\n",
            "        apache2       0.00      0.00      0.00       737\n",
            "           back       0.00      0.00      0.00       359\n",
            "buffer_overflow       0.00      0.00      0.00        20\n",
            "      ftp_write       0.00      0.00      0.00         3\n",
            "   guess_passwd       0.00      0.00      0.00      1231\n",
            "     httptunnel       0.00      0.00      0.00       133\n",
            "           imap       0.00      0.00      0.00         1\n",
            "        ipsweep       0.00      0.00      0.00       141\n",
            "           land       0.00      0.00      0.00         7\n",
            "     loadmodule       0.00      0.00      0.00         2\n",
            "       mailbomb       0.00      0.00      0.00       293\n",
            "          mscan       0.00      0.00      0.00       996\n",
            "       multihop       0.00      0.00      0.00        18\n",
            "          named       0.00      0.00      0.00        17\n",
            "        neptune       0.57      1.00      0.73      4657\n",
            "           nmap       0.00      0.00      0.00        73\n",
            "         normal       0.65      0.97      0.78      9711\n",
            "           perl       0.00      0.00      0.00         2\n",
            "            phf       0.00      0.00      0.00         2\n",
            "            pod       0.00      0.00      0.00        41\n",
            "      portsweep       0.00      0.00      0.00       157\n",
            "   processtable       0.00      0.00      0.00       685\n",
            "             ps       0.00      0.00      0.00        15\n",
            "        rootkit       0.00      0.00      0.00        13\n",
            "          saint       0.00      0.00      0.00       319\n",
            "          satan       0.00      0.00      0.00       735\n",
            "       sendmail       0.00      0.00      0.00        14\n",
            "          smurf       0.00      0.00      0.00       665\n",
            "  snmpgetattack       0.00      0.00      0.00       178\n",
            "      snmpguess       0.00      0.00      0.00       331\n",
            "      sqlattack       0.00      0.00      0.00         2\n",
            "       teardrop       0.00      0.00      0.00        12\n",
            "       udpstorm       0.00      0.00      0.00         2\n",
            "    warezmaster       0.00      0.00      0.00       944\n",
            "           worm       0.00      0.00      0.00         2\n",
            "          xlock       0.00      0.00      0.00         9\n",
            "         xsnoop       0.00      0.00      0.00         4\n",
            "          xterm       0.00      0.00      0.00        13\n",
            "\n",
            "       accuracy                           0.62     22544\n",
            "      macro avg       0.03      0.05      0.04     22544\n",
            "   weighted avg       0.40      0.62      0.49     22544\n",
            "\n",
            "AdaBoost Accuracy: 62.26%\n",
            "XGBoost Classifier Report:\n",
            "                  precision    recall  f1-score   support\n",
            "\n",
            "        apache2       0.00      0.00      0.00       737\n",
            "           back       0.44      1.00      0.61       359\n",
            "buffer_overflow       0.67      0.50      0.57        20\n",
            "      ftp_write       0.50      0.33      0.40         3\n",
            "   guess_passwd       0.00      0.00      0.00      1231\n",
            "     httptunnel       0.00      0.00      0.00       133\n",
            "           imap       0.04      1.00      0.08         1\n",
            "        ipsweep       0.30      1.00      0.47       141\n",
            "           land       1.00      1.00      1.00         7\n",
            "     loadmodule       0.00      0.00      0.00         2\n",
            "       mailbomb       0.00      0.00      0.00       293\n",
            "          mscan       0.00      0.00      0.00       996\n",
            "       multihop       0.00      0.00      0.00        18\n",
            "          named       0.00      0.00      0.00        17\n",
            "        neptune       0.90      0.98      0.94      4657\n",
            "           nmap       0.89      1.00      0.94        73\n",
            "         normal       0.68      0.97      0.80      9711\n",
            "           perl       1.00      0.50      0.67         2\n",
            "            phf       1.00      0.50      0.67         2\n",
            "            pod       0.55      0.88      0.67        41\n",
            "      portsweep       0.46      0.85      0.59       157\n",
            "   processtable       0.00      0.00      0.00       685\n",
            "             ps       0.00      0.00      0.00        15\n",
            "        rootkit       0.00      0.00      0.00        13\n",
            "          saint       0.00      0.00      0.00       319\n",
            "          satan       0.54      0.95      0.69       735\n",
            "       sendmail       0.00      0.00      0.00        14\n",
            "          smurf       1.00      1.00      1.00       665\n",
            "  snmpgetattack       0.00      0.00      0.00       178\n",
            "      snmpguess       0.00      0.00      0.00       331\n",
            "      sqlattack       0.00      0.00      0.00         2\n",
            "       teardrop       0.24      1.00      0.39        12\n",
            "       udpstorm       0.00      0.00      0.00         2\n",
            "    warezmaster       0.00      0.00      0.00       944\n",
            "           worm       0.00      0.00      0.00         2\n",
            "          xlock       0.00      0.00      0.00         9\n",
            "         xsnoop       0.00      0.00      0.00         4\n",
            "          xterm       0.00      0.00      0.00        13\n",
            "\n",
            "       accuracy                           0.71     22544\n",
            "      macro avg       0.27      0.35      0.28     22544\n",
            "   weighted avg       0.55      0.71      0.61     22544\n",
            "\n",
            "XGBoost Accuracy: 71.40%\n"
          ]
        }
      ]
    },
    {
      "cell_type": "code",
      "source": [
        "import matplotlib.pyplot as plt\n",
        "import seaborn as sns\n",
        "from sklearn.metrics import ConfusionMatrixDisplay, confusion_matrix\n",
        "\n",
        "# Define plot style\n",
        "sns.set(style=\"whitegrid\")\n",
        "\n",
        "\n",
        "# Plot Accuracy Comparison\n",
        "model_names = ['AdaBoost', 'XGBoost']\n",
        "accuracies = [ada_accuracy, xgb_accuracy]\n",
        "\n",
        "plt.figure(figsize=(8, 6))\n",
        "sns.barplot(x=model_names, y=accuracies, palette=\"viridis\")\n",
        "plt.xlabel(\"Model\")\n",
        "plt.ylabel(\"Accuracy (%)\")\n",
        "plt.title(\"Accuracy Comparison of AdaBoost and XGBoost\")\n",
        "plt.ylim(0, 100)\n",
        "for i, v in enumerate(accuracies):\n",
        "    plt.text(i, v + 1, f\"{v:.2f}%\", ha=\"center\", fontweight=\"bold\")\n",
        "plt.show()\n"
      ],
      "metadata": {
        "id": "zxBNpC-gpz1p"
      },
      "execution_count": null,
      "outputs": []
    }
  ],
  "metadata": {
    "colab": {
      "provenance": []
    },
    "kernelspec": {
      "display_name": "Python 3",
      "name": "python3"
    },
    "language_info": {
      "name": "python"
    }
  },
  "nbformat": 4,
  "nbformat_minor": 0
}