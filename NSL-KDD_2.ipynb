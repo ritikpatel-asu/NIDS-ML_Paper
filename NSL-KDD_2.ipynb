{
 "cells": [
  {
   "cell_type": "code",
   "execution_count": 1,
   "id": "baa6cf7e",
   "metadata": {
    "scrolled": true
   },
   "outputs": [],
   "source": [
    "import pandas as pd\n",
    "import numpy as np\n",
    "import seaborn as sns\n",
    "import matplotlib.pyplot as plt\n",
    "from sklearn.preprocessing import LabelEncoder, StandardScaler\n",
    "from sklearn.model_selection import train_test_split\n",
    "from sklearn.ensemble import RandomForestClassifier, AdaBoostClassifier\n",
    "from sklearn.neighbors import KNeighborsClassifier\n",
    "from sklearn.metrics import classification_report, confusion_matrix, accuracy_score\n",
    "from sklearn import svm\n",
    "from xgboost import XGBClassifier\n",
    "\n",
    "\n",
    "# Load datasets\n",
    "df = pd.read_csv(\"kdd_train.csv\")\n",
    "test_df = pd.read_csv(\"kdd_test.csv\")\n",
    "\n",
    "df = pd.concat([df, test_df], ignore_index=True)\n",
    "df1 = df.copy()"
   ]
  },
  {
   "cell_type": "code",
   "execution_count": 2,
   "id": "cfc43fe9",
   "metadata": {
    "scrolled": true
   },
   "outputs": [
    {
     "data": {
      "text/plain": [
       "Index(['duration', 'protocol_type', 'service', 'flag', 'src_bytes',\n",
       "       'dst_bytes', 'land', 'wrong_fragment', 'urgent', 'hot',\n",
       "       'num_failed_logins', 'logged_in', 'num_compromised', 'root_shell',\n",
       "       'su_attempted', 'num_root', 'num_file_creations', 'num_shells',\n",
       "       'num_access_files', 'num_outbound_cmds', 'is_host_login',\n",
       "       'is_guest_login', 'count', 'srv_count', 'serror_rate',\n",
       "       'srv_serror_rate', 'rerror_rate', 'srv_rerror_rate', 'same_srv_rate',\n",
       "       'diff_srv_rate', 'srv_diff_host_rate', 'dst_host_count',\n",
       "       'dst_host_srv_count', 'dst_host_same_srv_rate',\n",
       "       'dst_host_diff_srv_rate', 'dst_host_same_src_port_rate',\n",
       "       'dst_host_srv_diff_host_rate', 'dst_host_serror_rate',\n",
       "       'dst_host_srv_serror_rate', 'dst_host_rerror_rate',\n",
       "       'dst_host_srv_rerror_rate', 'labels'],\n",
       "      dtype='object')"
      ]
     },
     "execution_count": 2,
     "metadata": {},
     "output_type": "execute_result"
    }
   ],
   "source": [
    "df.columns"
   ]
  },
  {
   "cell_type": "code",
   "execution_count": 3,
   "id": "232d80a6",
   "metadata": {},
   "outputs": [
    {
     "data": {
      "text/plain": [
       "array(['normal', 'neptune', 'warezclient', 'ipsweep', 'portsweep',\n",
       "       'teardrop', 'nmap', 'satan', 'smurf', 'pod', 'back',\n",
       "       'guess_passwd', 'ftp_write', 'multihop', 'rootkit',\n",
       "       'buffer_overflow', 'imap', 'warezmaster', 'phf', 'land',\n",
       "       'loadmodule', 'spy', 'perl', 'apache2', 'mscan', 'httptunnel',\n",
       "       'processtable', 'mailbomb', 'snmpguess', 'saint', 'snmpgetattack',\n",
       "       'xsnoop', 'ps', 'xterm', 'sendmail', 'xlock', 'named'],\n",
       "      dtype=object)"
      ]
     },
     "execution_count": 3,
     "metadata": {},
     "output_type": "execute_result"
    }
   ],
   "source": [
    "df['labels'].unique()"
   ]
  },
  {
   "cell_type": "code",
   "execution_count": 4,
   "id": "975725fd",
   "metadata": {
    "scrolled": true
   },
   "outputs": [
    {
     "data": {
      "text/plain": [
       "array(['normal', 'neptune', 'warezclient', 'ipsweep', 'portsweep',\n",
       "       'teardrop', 'nmap', 'satan', 'smurf', 'pod', 'back',\n",
       "       'guess_passwd', 'ftp_write', 'multihop', 'rootkit',\n",
       "       'buffer_overflow', 'imap', 'warezmaster', 'phf', 'land',\n",
       "       'loadmodule', 'spy', 'perl', 'apache2', 'mscan', 'httptunnel',\n",
       "       'processtable', 'mailbomb', 'snmpguess', 'saint', 'snmpgetattack',\n",
       "       'xsnoop', 'ps', 'xterm', 'sendmail', 'xlock', 'named'],\n",
       "      dtype=object)"
      ]
     },
     "execution_count": 4,
     "metadata": {},
     "output_type": "execute_result"
    }
   ],
   "source": [
    "# Define columns\n",
    "cols = df['labels'].unique()\n",
    "cols\n"
   ]
  },
  {
   "cell_type": "markdown",
   "id": "5a1bd431",
   "metadata": {},
   "source": [
    "Preprocessing for Binary Classification"
   ]
  },
  {
   "cell_type": "code",
   "execution_count": 5,
   "id": "8b3822ad",
   "metadata": {},
   "outputs": [
    {
     "data": {
      "text/html": [
       "<div>\n",
       "<style scoped>\n",
       "    .dataframe tbody tr th:only-of-type {\n",
       "        vertical-align: middle;\n",
       "    }\n",
       "\n",
       "    .dataframe tbody tr th {\n",
       "        vertical-align: top;\n",
       "    }\n",
       "\n",
       "    .dataframe thead th {\n",
       "        text-align: right;\n",
       "    }\n",
       "</style>\n",
       "<table border=\"1\" class=\"dataframe\">\n",
       "  <thead>\n",
       "    <tr style=\"text-align: right;\">\n",
       "      <th></th>\n",
       "      <th>duration</th>\n",
       "      <th>protocol_type</th>\n",
       "      <th>service</th>\n",
       "      <th>flag</th>\n",
       "      <th>src_bytes</th>\n",
       "      <th>dst_bytes</th>\n",
       "      <th>land</th>\n",
       "      <th>wrong_fragment</th>\n",
       "      <th>urgent</th>\n",
       "      <th>hot</th>\n",
       "      <th>...</th>\n",
       "      <th>dst_host_srv_count</th>\n",
       "      <th>dst_host_same_srv_rate</th>\n",
       "      <th>dst_host_diff_srv_rate</th>\n",
       "      <th>dst_host_same_src_port_rate</th>\n",
       "      <th>dst_host_srv_diff_host_rate</th>\n",
       "      <th>dst_host_serror_rate</th>\n",
       "      <th>dst_host_srv_serror_rate</th>\n",
       "      <th>dst_host_rerror_rate</th>\n",
       "      <th>dst_host_srv_rerror_rate</th>\n",
       "      <th>labels</th>\n",
       "    </tr>\n",
       "  </thead>\n",
       "  <tbody>\n",
       "    <tr>\n",
       "      <th>0</th>\n",
       "      <td>0</td>\n",
       "      <td>tcp</td>\n",
       "      <td>ftp_data</td>\n",
       "      <td>SF</td>\n",
       "      <td>491</td>\n",
       "      <td>0</td>\n",
       "      <td>0</td>\n",
       "      <td>0</td>\n",
       "      <td>0</td>\n",
       "      <td>0</td>\n",
       "      <td>...</td>\n",
       "      <td>25</td>\n",
       "      <td>0.17</td>\n",
       "      <td>0.03</td>\n",
       "      <td>0.17</td>\n",
       "      <td>0.00</td>\n",
       "      <td>0.00</td>\n",
       "      <td>0.00</td>\n",
       "      <td>0.05</td>\n",
       "      <td>0.00</td>\n",
       "      <td>normal</td>\n",
       "    </tr>\n",
       "    <tr>\n",
       "      <th>1</th>\n",
       "      <td>0</td>\n",
       "      <td>udp</td>\n",
       "      <td>other</td>\n",
       "      <td>SF</td>\n",
       "      <td>146</td>\n",
       "      <td>0</td>\n",
       "      <td>0</td>\n",
       "      <td>0</td>\n",
       "      <td>0</td>\n",
       "      <td>0</td>\n",
       "      <td>...</td>\n",
       "      <td>1</td>\n",
       "      <td>0.00</td>\n",
       "      <td>0.60</td>\n",
       "      <td>0.88</td>\n",
       "      <td>0.00</td>\n",
       "      <td>0.00</td>\n",
       "      <td>0.00</td>\n",
       "      <td>0.00</td>\n",
       "      <td>0.00</td>\n",
       "      <td>normal</td>\n",
       "    </tr>\n",
       "    <tr>\n",
       "      <th>2</th>\n",
       "      <td>0</td>\n",
       "      <td>tcp</td>\n",
       "      <td>private</td>\n",
       "      <td>S0</td>\n",
       "      <td>0</td>\n",
       "      <td>0</td>\n",
       "      <td>0</td>\n",
       "      <td>0</td>\n",
       "      <td>0</td>\n",
       "      <td>0</td>\n",
       "      <td>...</td>\n",
       "      <td>26</td>\n",
       "      <td>0.10</td>\n",
       "      <td>0.05</td>\n",
       "      <td>0.00</td>\n",
       "      <td>0.00</td>\n",
       "      <td>1.00</td>\n",
       "      <td>1.00</td>\n",
       "      <td>0.00</td>\n",
       "      <td>0.00</td>\n",
       "      <td>intrusion</td>\n",
       "    </tr>\n",
       "    <tr>\n",
       "      <th>3</th>\n",
       "      <td>0</td>\n",
       "      <td>tcp</td>\n",
       "      <td>http</td>\n",
       "      <td>SF</td>\n",
       "      <td>232</td>\n",
       "      <td>8153</td>\n",
       "      <td>0</td>\n",
       "      <td>0</td>\n",
       "      <td>0</td>\n",
       "      <td>0</td>\n",
       "      <td>...</td>\n",
       "      <td>255</td>\n",
       "      <td>1.00</td>\n",
       "      <td>0.00</td>\n",
       "      <td>0.03</td>\n",
       "      <td>0.04</td>\n",
       "      <td>0.03</td>\n",
       "      <td>0.01</td>\n",
       "      <td>0.00</td>\n",
       "      <td>0.01</td>\n",
       "      <td>normal</td>\n",
       "    </tr>\n",
       "    <tr>\n",
       "      <th>4</th>\n",
       "      <td>0</td>\n",
       "      <td>tcp</td>\n",
       "      <td>http</td>\n",
       "      <td>SF</td>\n",
       "      <td>199</td>\n",
       "      <td>420</td>\n",
       "      <td>0</td>\n",
       "      <td>0</td>\n",
       "      <td>0</td>\n",
       "      <td>0</td>\n",
       "      <td>...</td>\n",
       "      <td>255</td>\n",
       "      <td>1.00</td>\n",
       "      <td>0.00</td>\n",
       "      <td>0.00</td>\n",
       "      <td>0.00</td>\n",
       "      <td>0.00</td>\n",
       "      <td>0.00</td>\n",
       "      <td>0.00</td>\n",
       "      <td>0.00</td>\n",
       "      <td>normal</td>\n",
       "    </tr>\n",
       "  </tbody>\n",
       "</table>\n",
       "<p>5 rows × 42 columns</p>\n",
       "</div>"
      ],
      "text/plain": [
       "   duration protocol_type   service flag  src_bytes  dst_bytes  land  \\\n",
       "0         0           tcp  ftp_data   SF        491          0     0   \n",
       "1         0           udp     other   SF        146          0     0   \n",
       "2         0           tcp   private   S0          0          0     0   \n",
       "3         0           tcp      http   SF        232       8153     0   \n",
       "4         0           tcp      http   SF        199        420     0   \n",
       "\n",
       "   wrong_fragment  urgent  hot  ...  dst_host_srv_count  \\\n",
       "0               0       0    0  ...                  25   \n",
       "1               0       0    0  ...                   1   \n",
       "2               0       0    0  ...                  26   \n",
       "3               0       0    0  ...                 255   \n",
       "4               0       0    0  ...                 255   \n",
       "\n",
       "   dst_host_same_srv_rate  dst_host_diff_srv_rate  \\\n",
       "0                    0.17                    0.03   \n",
       "1                    0.00                    0.60   \n",
       "2                    0.10                    0.05   \n",
       "3                    1.00                    0.00   \n",
       "4                    1.00                    0.00   \n",
       "\n",
       "   dst_host_same_src_port_rate  dst_host_srv_diff_host_rate  \\\n",
       "0                         0.17                         0.00   \n",
       "1                         0.88                         0.00   \n",
       "2                         0.00                         0.00   \n",
       "3                         0.03                         0.04   \n",
       "4                         0.00                         0.00   \n",
       "\n",
       "   dst_host_serror_rate  dst_host_srv_serror_rate  dst_host_rerror_rate  \\\n",
       "0                  0.00                      0.00                  0.05   \n",
       "1                  0.00                      0.00                  0.00   \n",
       "2                  1.00                      1.00                  0.00   \n",
       "3                  0.03                      0.01                  0.00   \n",
       "4                  0.00                      0.00                  0.00   \n",
       "\n",
       "   dst_host_srv_rerror_rate     labels  \n",
       "0                      0.00     normal  \n",
       "1                      0.00     normal  \n",
       "2                      0.00  intrusion  \n",
       "3                      0.01     normal  \n",
       "4                      0.00     normal  \n",
       "\n",
       "[5 rows x 42 columns]"
      ]
     },
     "execution_count": 5,
     "metadata": {},
     "output_type": "execute_result"
    }
   ],
   "source": [
    "df['labels'].replace(to_replace=cols[1:],value=\"intrusion\", inplace = True)\n",
    "df.head() "
   ]
  },
  {
   "cell_type": "code",
   "execution_count": 6,
   "id": "6732a7b2",
   "metadata": {
    "scrolled": false
   },
   "outputs": [
    {
     "data": {
      "image/png": "[encoded data removed]",
      "text/plain": [
       "<Figure size 500x500 with 1 Axes>"
      ]
     },
     "metadata": {},
     "output_type": "display_data"
    }
   ],
   "source": [
    "sns.displot(df, x='labels', kind='hist')\n",
    "plt.xlabel(\"Class\")\n",
    "plt.title(\"Distribution\")\n",
    "plt.show()"
   ]
  },
  {
   "cell_type": "code",
   "execution_count": 7,
   "id": "efeffda9",
   "metadata": {},
   "outputs": [
    {
     "data": {
      "text/plain": [
       "Index(['protocol_type', 'service', 'flag', 'labels'], dtype='object')"
      ]
     },
     "execution_count": 7,
     "metadata": {},
     "output_type": "execute_result"
    }
   ],
   "source": [
    "cat_features = df.select_dtypes(include='object').columns\n",
    "cat_features"
   ]
  },
  {
   "cell_type": "code",
   "execution_count": 8,
   "id": "45e1a008",
   "metadata": {},
   "outputs": [],
   "source": [
    "cols = ['protocol_type','service','flag','labels']\n",
    "\n",
    "for col in cols:\n",
    "    en = LabelEncoder()\n",
    "\n",
    "    df[col] = en.fit_transform(df[col])\n",
    "\n",
    "class_names = en.classes_"
   ]
  },
  {
   "cell_type": "code",
   "execution_count": 9,
   "id": "75ea7126",
   "metadata": {},
   "outputs": [],
   "source": [
    "X = df.drop(['labels'], axis=1)\n",
    "y = df['labels']\n",
    "\n",
    "X_train, X_test, y_train, y_test = train_test_split(X, y,test_size=0.2,random_state=13)"
   ]
  },
  {
   "cell_type": "markdown",
   "id": "7726dde8",
   "metadata": {},
   "source": [
    "Use predetermined important features (from ExtraTreesRegressor in IAS_draft1)"
   ]
  },
  {
   "cell_type": "code",
   "execution_count": 10,
   "id": "27766ab6",
   "metadata": {},
   "outputs": [],
   "source": [
    "columns=['same_srv_rate', 'flag', 'protocol_type', 'dst_host_same_srv_rate',\n",
    "       'logged_in', 'dst_host_same_src_port_rate', 'service',\n",
    "       'dst_host_srv_count', 'dst_host_rerror_rate', 'src_bytes',\n",
    "       'wrong_fragment', 'hot', 'dst_host_count', 'count',\n",
    "       'dst_host_diff_srv_rate', 'dst_host_srv_serror_rate', 'dst_bytes',\n",
    "       'dst_host_srv_diff_host_rate', 'srv_count', 'serror_rate',\n",
    "       'num_compromised', 'dst_host_srv_rerror_rate', 'is_guest_login',\n",
    "       'dst_host_serror_rate', 'duration', 'srv_rerror_rate', 'rerror_rate',\n",
    "       'srv_serror_rate', 'diff_srv_rate', 'num_failed_logins']\n",
    "#Continue our model with only top 30 features\n",
    "\n",
    "X_train=X_train[columns]\n",
    "X_test=X_test[columns]"
   ]
  },
  {
   "cell_type": "code",
   "execution_count": 11,
   "id": "3e1e9c83",
   "metadata": {},
   "outputs": [],
   "source": [
    "scaler = StandardScaler()\n",
    "\n",
    "X_train = scaler.fit_transform(X_train)\n",
    "X_test = scaler.transform(X_test)"
   ]
  },
  {
   "cell_type": "markdown",
   "id": "62b39fd6",
   "metadata": {},
   "source": [
    "Training RF and KNN Models for Binary Classification"
   ]
  },
  {
   "cell_type": "code",
   "execution_count": 12,
   "id": "a83212f0",
   "metadata": {},
   "outputs": [
    {
     "name": "stdout",
     "output_type": "stream",
     "text": [
      "Accuracy: 0.9976770805278751\n",
      "\n",
      "Classification Report:\n",
      "              precision    recall  f1-score   support\n",
      "\n",
      "   intrusion       1.00      1.00      1.00     13970\n",
      "      normal       1.00      1.00      1.00     15734\n",
      "\n",
      "    accuracy                           1.00     29704\n",
      "   macro avg       1.00      1.00      1.00     29704\n",
      "weighted avg       1.00      1.00      1.00     29704\n",
      "\n"
     ]
    }
   ],
   "source": [
    "#Train random forest model\n",
    "\n",
    "rfc = RandomForestClassifier(random_state=13, n_estimators=100)\n",
    "rfc.fit(X_train, y_train)\n",
    "\n",
    "y_pred_rfc = rfc.predict(X_test)\n",
    "\n",
    "# RF Model evaluation\n",
    "accuracy = accuracy_score(y_test, y_pred_rfc)\n",
    "class_report = classification_report(y_test, y_pred_rfc, target_names=class_names)\n",
    "\n",
    "print(\"Accuracy:\", accuracy)\n",
    "print(\"\\nClassification Report:\")\n",
    "print(class_report)"
   ]
  },
  {
   "cell_type": "code",
   "execution_count": 13,
   "id": "37a488a2",
   "metadata": {
    "scrolled": true
   },
   "outputs": [
    {
     "name": "stdout",
     "output_type": "stream",
     "text": [
      "Accuracy: 0.9858604901696741\n",
      "\n",
      "Classification Report:\n",
      "              precision    recall  f1-score   support\n",
      "\n",
      "   intrusion       0.99      0.98      0.98     13970\n",
      "      normal       0.99      0.99      0.99     15734\n",
      "\n",
      "    accuracy                           0.99     29704\n",
      "   macro avg       0.99      0.99      0.99     29704\n",
      "weighted avg       0.99      0.99      0.99     29704\n",
      "\n"
     ]
    }
   ],
   "source": [
    "#Train KNN model\n",
    "\n",
    "knn = KNeighborsClassifier(n_neighbors=100)\n",
    "knn.fit(X_train, y_train)\n",
    "\n",
    "y_pred_knn = knn.predict(X_test)\n",
    "\n",
    "# KNN Model evaluation\n",
    "accuracy = accuracy_score(y_test, y_pred_knn)\n",
    "class_report = classification_report(y_test, y_pred_knn, target_names=class_names)\n",
    "\n",
    "print(\"Accuracy:\", accuracy)\n",
    "print(\"\\nClassification Report:\")\n",
    "print(class_report)"
   ]
  },
  {
   "cell_type": "code",
   "execution_count": 14,
   "id": "ea3bae69",
   "metadata": {},
   "outputs": [
    {
     "name": "stdout",
     "output_type": "stream",
     "text": [
      "Accuracy: 0.9849515216805818\n",
      "\n",
      "Classification Report:\n",
      "              precision    recall  f1-score   support\n",
      "\n",
      "   intrusion       0.99      0.98      0.98     13970\n",
      "      normal       0.98      0.99      0.99     15734\n",
      "\n",
      "    accuracy                           0.98     29704\n",
      "   macro avg       0.99      0.98      0.98     29704\n",
      "weighted avg       0.98      0.98      0.98     29704\n",
      "\n"
     ]
    }
   ],
   "source": [
    "#AdaBoost classifier\n",
    "\n",
    "ada = AdaBoostClassifier(random_state=13, n_estimators=100)\n",
    "ada.fit(X_train, y_train)\n",
    "\n",
    "y_pred_ada = ada.predict(X_test)\n",
    "\n",
    "# AdaBoost model evaluation\n",
    "accuracy = accuracy_score(y_test, y_pred_ada)\n",
    "class_report = classification_report(y_test, y_pred_ada, target_names=class_names)\n",
    "\n",
    "print(\"Accuracy:\", accuracy)\n",
    "print(\"\\nClassification Report:\")\n",
    "print(class_report)"
   ]
  },
  {
   "cell_type": "code",
   "execution_count": 15,
   "id": "3cb9459f",
   "metadata": {},
   "outputs": [
    {
     "name": "stdout",
     "output_type": "stream",
     "text": [
      "Accuracy: 0.9979464045246431\n",
      "\n",
      "Classification Report:\n",
      "              precision    recall  f1-score   support\n",
      "\n",
      "   intrusion       1.00      1.00      1.00     13970\n",
      "      normal       1.00      1.00      1.00     15734\n",
      "\n",
      "    accuracy                           1.00     29704\n",
      "   macro avg       1.00      1.00      1.00     29704\n",
      "weighted avg       1.00      1.00      1.00     29704\n",
      "\n"
     ]
    }
   ],
   "source": [
    "# XGBoost\n",
    "xgb = XGBClassifier(n_estimators=100, eval_metric='logloss', random_state=13)\n",
    "xgb.fit(X_train, y_train)\n",
    "\n",
    "y_pred_xgb = xgb.predict(X_test)\n",
    "\n",
    "# XGBoost model evaluation\n",
    "accuracy = accuracy_score(y_test, y_pred_xgb)\n",
    "class_report = classification_report(y_test, y_pred_xgb, target_names=class_names)\n",
    "\n",
    "print(\"Accuracy:\", accuracy)\n",
    "print(\"\\nClassification Report:\")\n",
    "print(class_report)"
   ]
  },
  {
   "cell_type": "markdown",
   "id": "c41763dd",
   "metadata": {},
   "source": [
    "Preprocessing for Multi-Class Classification"
   ]
  },
  {
   "cell_type": "code",
   "execution_count": 16,
   "id": "2186b7ef",
   "metadata": {},
   "outputs": [],
   "source": [
    "def others(df):\n",
    "    counts = df['labels'].value_counts()\n",
    "    labels_to_replace = counts[counts <= 100].index\n",
    "\n",
    "    df['labels'] = df['labels'].replace(labels_to_replace, 'Other')\n",
    "    return df\n",
    "\n",
    "df2 = others(df1.copy())"
   ]
  },
  {
   "cell_type": "code",
   "execution_count": 17,
   "id": "213c0f12",
   "metadata": {},
   "outputs": [
    {
     "data": {
      "image/png": "[encoded data removed]",
      "text/plain": [
       "<Figure size 1000x600 with 1 Axes>"
      ]
     },
     "metadata": {},
     "output_type": "display_data"
    },
    {
     "data": {
      "text/plain": [
       "normal          78588\n",
       "neptune         47868\n",
       "satan            4331\n",
       "ipsweep          4078\n",
       "portsweep        3302\n",
       "smurf            3186\n",
       "nmap             1699\n",
       "back             1183\n",
       "warezclient       997\n",
       "teardrop          996\n",
       "Other             541\n",
       "guess_passwd      464\n",
       "mscan             310\n",
       "warezmaster       299\n",
       "pod               236\n",
       "apache2           228\n",
       "processtable      211\n",
       "Name: labels, dtype: int64"
      ]
     },
     "execution_count": 17,
     "metadata": {},
     "output_type": "execute_result"
    }
   ],
   "source": [
    "plt.figure(figsize=(10, 6))\n",
    "sns.countplot(x='labels', data=df2, palette='viridis')\n",
    "plt.title('Distribution of Attacks After Merging')\n",
    "plt.xlabel('Category')\n",
    "plt.ylabel('Count')\n",
    "plt.xticks(rotation=45)\n",
    "plt.show()\n",
    "(df2['labels'].value_counts())"
   ]
  },
  {
   "cell_type": "code",
   "execution_count": 18,
   "id": "8a3367de",
   "metadata": {},
   "outputs": [
    {
     "data": {
      "text/plain": [
       "Index(['protocol_type', 'service', 'flag', 'labels'], dtype='object')"
      ]
     },
     "execution_count": 18,
     "metadata": {},
     "output_type": "execute_result"
    }
   ],
   "source": [
    "cat_features = df2.select_dtypes(include='object').columns\n",
    "cat_features"
   ]
  },
  {
   "cell_type": "code",
   "execution_count": 19,
   "id": "3d3fd029",
   "metadata": {},
   "outputs": [
    {
     "data": {
      "text/plain": [
       "array(['normal', 'neptune', 'warezclient', 'ipsweep', 'portsweep',\n",
       "       'teardrop', 'nmap', 'satan', 'smurf', 'pod', 'back',\n",
       "       'guess_passwd', 'Other', 'warezmaster', 'apache2', 'mscan',\n",
       "       'processtable'], dtype=object)"
      ]
     },
     "execution_count": 19,
     "metadata": {},
     "output_type": "execute_result"
    }
   ],
   "source": [
    "df2['labels'].unique()"
   ]
  },
  {
   "cell_type": "code",
   "execution_count": 20,
   "id": "1e138065",
   "metadata": {},
   "outputs": [],
   "source": [
    "cols = ['protocol_type','service','flag','labels']\n",
    "\n",
    "for col in cols:\n",
    "    en = LabelEncoder()\n",
    "\n",
    "    df2[col] = en.fit_transform(df2[col])\n",
    "\n",
    "class_names = en.classes_"
   ]
  },
  {
   "cell_type": "code",
   "execution_count": 21,
   "id": "15441be0",
   "metadata": {},
   "outputs": [],
   "source": [
    "X = df2.drop([\"labels\"], axis=1)\n",
    "y = df2[\"labels\"]\n",
    "\n",
    "X_train, X_test, y_train, y_test = train_test_split(X, y, test_size=0.2, random_state=13, stratify=y)"
   ]
  },
  {
   "cell_type": "code",
   "execution_count": 22,
   "id": "517f517a",
   "metadata": {},
   "outputs": [],
   "source": [
    "\n",
    "columns=['same_srv_rate', 'flag', 'protocol_type', 'dst_host_same_srv_rate',\n",
    "       'logged_in', 'dst_host_same_src_port_rate', 'service',\n",
    "       'dst_host_srv_count', 'dst_host_rerror_rate', 'src_bytes',\n",
    "       'wrong_fragment', 'hot', 'dst_host_count', 'count',\n",
    "       'dst_host_diff_srv_rate', 'dst_host_srv_serror_rate', 'dst_bytes',\n",
    "       'dst_host_srv_diff_host_rate', 'srv_count', 'serror_rate',\n",
    "       'num_compromised', 'dst_host_srv_rerror_rate', 'is_guest_login',\n",
    "       'dst_host_serror_rate', 'duration', 'srv_rerror_rate', 'rerror_rate',\n",
    "       'srv_serror_rate', 'diff_srv_rate', 'num_failed_logins']\n",
    "#Continue model with top 30 features\n",
    "\n",
    "X_train=X_train[columns]\n",
    "X_test=X_test[columns] "
   ]
  },
  {
   "cell_type": "code",
   "execution_count": 23,
   "id": "def6ea1c",
   "metadata": {},
   "outputs": [],
   "source": [
    "\n",
    "scaler = StandardScaler()\n",
    "\n",
    "X_train = scaler.fit_transform(X_train)\n",
    "X_test = scaler.transform(X_test)"
   ]
  },
  {
   "cell_type": "markdown",
   "id": "46d62ccb",
   "metadata": {},
   "source": [
    "Training RF and KNN Models for Multi-Class Classification"
   ]
  },
  {
   "cell_type": "code",
   "execution_count": 24,
   "id": "a35bda14",
   "metadata": {},
   "outputs": [
    {
     "name": "stdout",
     "output_type": "stream",
     "text": [
      "Accuracy: 0.9971384325343388\n",
      "\n",
      "Classification Report:\n",
      "              precision    recall  f1-score   support\n",
      "\n",
      "       Other       0.89      0.74      0.81       108\n",
      "     apache2       1.00      1.00      1.00        46\n",
      "        back       1.00      1.00      1.00       237\n",
      "guess_passwd       1.00      0.94      0.97        93\n",
      "     ipsweep       1.00      1.00      1.00       816\n",
      "       mscan       1.00      0.98      0.99        62\n",
      "     neptune       1.00      1.00      1.00      9574\n",
      "        nmap       0.99      0.99      0.99       340\n",
      "      normal       1.00      1.00      1.00     15718\n",
      "         pod       0.96      1.00      0.98        47\n",
      "   portsweep       0.99      1.00      1.00       660\n",
      "processtable       1.00      1.00      1.00        42\n",
      "       satan       0.98      0.99      0.99       866\n",
      "       smurf       1.00      1.00      1.00       637\n",
      "    teardrop       0.99      1.00      0.99       199\n",
      " warezclient       1.00      0.98      0.99       199\n",
      " warezmaster       1.00      0.88      0.94        60\n",
      "\n",
      "    accuracy                           1.00     29704\n",
      "   macro avg       0.99      0.97      0.98     29704\n",
      "weighted avg       1.00      1.00      1.00     29704\n",
      "\n"
     ]
    }
   ],
   "source": [
    "#Train random forest model\n",
    "\n",
    "rfc = RandomForestClassifier(random_state=13, n_estimators=100)\n",
    "rfc.fit(X_train, y_train)\n",
    "\n",
    "y_pred_rfc = rfc.predict(X_test)\n",
    "\n",
    "# RF Model evaluation\n",
    "accuracy = accuracy_score(y_test, y_pred_rfc)\n",
    "class_report = classification_report(y_test, y_pred_rfc, target_names=class_names)\n",
    "\n",
    "print(\"Accuracy:\", accuracy)\n",
    "print(\"\\nClassification Report:\")\n",
    "print(class_report)"
   ]
  },
  {
   "cell_type": "code",
   "execution_count": 25,
   "id": "814a0c4b",
   "metadata": {},
   "outputs": [
    {
     "name": "stdout",
     "output_type": "stream",
     "text": [
      "Accuracy: 0.980810665230272\n",
      "\n",
      "Classification Report:\n",
      "              precision    recall  f1-score   support\n",
      "\n",
      "       Other       0.70      0.24      0.36       108\n",
      "     apache2       0.80      0.89      0.85        46\n",
      "        back       0.91      0.96      0.93       237\n",
      "guess_passwd       0.75      0.65      0.69        93\n",
      "     ipsweep       0.94      0.96      0.95       816\n",
      "       mscan       0.87      0.42      0.57        62\n",
      "     neptune       1.00      1.00      1.00      9574\n",
      "        nmap       0.87      0.94      0.90       340\n",
      "      normal       0.98      0.99      0.99     15718\n",
      "         pod       0.96      0.98      0.97        47\n",
      "   portsweep       0.94      0.97      0.96       660\n",
      "processtable       1.00      0.81      0.89        42\n",
      "       satan       0.95      0.94      0.94       866\n",
      "       smurf       0.98      1.00      0.99       637\n",
      "    teardrop       0.98      0.99      0.98       199\n",
      " warezclient       0.91      0.83      0.87       199\n",
      " warezmaster       0.86      0.50      0.63        60\n",
      "\n",
      "    accuracy                           0.98     29704\n",
      "   macro avg       0.91      0.83      0.85     29704\n",
      "weighted avg       0.98      0.98      0.98     29704\n",
      "\n"
     ]
    }
   ],
   "source": [
    "#Train KNN model\n",
    "\n",
    "knn = KNeighborsClassifier(n_neighbors=100)\n",
    "knn.fit(X_train, y_train)\n",
    "\n",
    "y_pred_knn = knn.predict(X_test)\n",
    "\n",
    "# KNN Model evaluation\n",
    "accuracy = accuracy_score(y_test, y_pred_knn)\n",
    "class_report = classification_report(y_test, y_pred_knn, target_names=class_names)\n",
    "\n",
    "print(\"Accuracy:\", accuracy)\n",
    "print(\"\\nClassification Report:\")\n",
    "print(class_report)"
   ]
  },
  {
   "cell_type": "code",
   "execution_count": 26,
   "id": "0fa494d3",
   "metadata": {},
   "outputs": [
    {
     "name": "stdout",
     "output_type": "stream",
     "text": [
      "Accuracy: 0.8330191220037705\n",
      "\n",
      "Classification Report:\n",
      "              precision    recall  f1-score   support\n",
      "\n",
      "       Other       0.00      0.00      0.00       108\n",
      "     apache2       0.00      0.00      0.00        46\n",
      "        back       0.00      0.00      0.00       237\n",
      "guess_passwd       0.00      0.00      0.00        93\n",
      "     ipsweep       0.00      0.00      0.00       816\n",
      "       mscan       0.00      0.00      0.00        62\n",
      "     neptune       0.87      0.97      0.92      9574\n",
      "        nmap       0.00      0.00      0.00       340\n",
      "      normal       0.81      0.97      0.88     15718\n",
      "         pod       0.00      0.00      0.00        47\n",
      "   portsweep       0.00      0.00      0.00       660\n",
      "processtable       0.00      0.00      0.00        42\n",
      "       satan       0.00      0.00      0.00       866\n",
      "       smurf       0.00      0.00      0.00       637\n",
      "    teardrop       0.79      1.00      0.88       199\n",
      " warezclient       0.00      0.00      0.00       199\n",
      " warezmaster       0.00      0.00      0.00        60\n",
      "\n",
      "    accuracy                           0.83     29704\n",
      "   macro avg       0.15      0.17      0.16     29704\n",
      "weighted avg       0.72      0.83      0.77     29704\n",
      "\n"
     ]
    }
   ],
   "source": [
    "\n",
    "#AdaBoost model\n",
    "ada = AdaBoostClassifier(random_state=13, n_estimators=100)\n",
    "ada.fit(X_train, y_train)\n",
    "\n",
    "y_pred_ada = ada.predict(X_test)\n",
    "\n",
    "# AdaBoost model evaluation\n",
    "accuracy = accuracy_score(y_test, y_pred_ada)\n",
    "class_report = classification_report(y_test, y_pred_ada, target_names=class_names, zero_division=0)\n",
    "\n",
    "print(\"Accuracy:\", accuracy)\n",
    "print(\"\\nClassification Report:\")\n",
    "print(class_report)"
   ]
  },
  {
   "cell_type": "code",
   "execution_count": 27,
   "id": "1d520d8c",
   "metadata": {},
   "outputs": [
    {
     "name": "stdout",
     "output_type": "stream",
     "text": [
      "Accuracy: 0.9979464045246431\n",
      "\n",
      "Classification Report:\n",
      "              precision    recall  f1-score   support\n",
      "\n",
      "       Other       0.90      0.81      0.85       108\n",
      "     apache2       1.00      1.00      1.00        46\n",
      "        back       1.00      1.00      1.00       237\n",
      "guess_passwd       1.00      0.99      0.99        93\n",
      "     ipsweep       1.00      1.00      1.00       816\n",
      "       mscan       1.00      0.98      0.99        62\n",
      "     neptune       1.00      1.00      1.00      9574\n",
      "        nmap       0.99      0.99      0.99       340\n",
      "      normal       1.00      1.00      1.00     15718\n",
      "         pod       0.94      1.00      0.97        47\n",
      "   portsweep       1.00      1.00      1.00       660\n",
      "processtable       1.00      1.00      1.00        42\n",
      "       satan       0.99      0.99      0.99       866\n",
      "       smurf       1.00      1.00      1.00       637\n",
      "    teardrop       0.98      1.00      0.99       199\n",
      " warezclient       1.00      1.00      1.00       199\n",
      " warezmaster       1.00      0.95      0.97        60\n",
      "\n",
      "    accuracy                           1.00     29704\n",
      "   macro avg       0.99      0.98      0.98     29704\n",
      "weighted avg       1.00      1.00      1.00     29704\n",
      "\n"
     ]
    }
   ],
   "source": [
    "# XGBoost\n",
    "xgb = XGBClassifier(n_estimators=100, eval_metric='logloss', random_state=13)\n",
    "xgb.fit(X_train, y_train)\n",
    "\n",
    "y_pred_xgb = xgb.predict(X_test)\n",
    "\n",
    "# XGBoost model evaluation\n",
    "accuracy = accuracy_score(y_test, y_pred_xgb)\n",
    "class_report = classification_report(y_test, y_pred_xgb, target_names=class_names)\n",
    "\n",
    "print(\"Accuracy:\", accuracy)\n",
    "print(\"\\nClassification Report:\")\n",
    "print(class_report)"
   ]
  },
  {
   "cell_type": "code",
   "execution_count": null,
   "id": "25e03ea0",
   "metadata": {},
   "outputs": [],
   "source": []
  }
 ],
 "metadata": {
  "kernelspec": {
   "display_name": "Python 3 (ipykernel)",
   "language": "python",
   "name": "python3"
  },
  "language_info": {
   "codemirror_mode": {
    "name": "ipython",
    "version": 3
   },
   "file_extension": ".py",
   "mimetype": "text/x-python",
   "name": "python",
   "nbconvert_exporter": "python",
   "pygments_lexer": "ipython3",
   "version": "3.11.4"
  }
 },
 "nbformat": 4,
 "nbformat_minor": 5
}
