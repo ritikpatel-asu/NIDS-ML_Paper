{
 "cells": [
  {
   "cell_type": "code",
   "execution_count": 3,
   "id": "9db7436e",
   "metadata": {
    "execution": {
     "iopub.execute_input": "2024-10-02T09:36:38.325055Z",
     "iopub.status.busy": "2024-10-02T09:36:38.323784Z",
     "iopub.status.idle": "2024-10-02T09:36:39.519458Z",
     "shell.execute_reply": "2024-10-02T09:36:39.517538Z"
    },
    "papermill": {
     "duration": 1.213427,
     "end_time": "2024-10-02T09:36:39.522957",
     "exception": false,
     "start_time": "2024-10-02T09:36:38.309530",
     "status": "completed"
    },
    "tags": []
   },
   "outputs": [],
   "source": [
    "import pandas as pd\n",
    "import numpy as np\n",
    "import matplotlib.pyplot as plt\n",
    "import seaborn as sns\n",
    "import pickle\n",
    "import xgboost as xgb\n",
    "from sklearn import preprocessing\n",
    "from multiprocessing import Process\n",
    "import multiprocessing\n",
    "from sklearn.feature_selection import SelectKBest, chi2\n",
    "from sklearn.calibration import CalibratedClassifierCV\n",
    "from sklearn.metrics import log_loss\n",
    "from sklearn.metrics import confusion_matrix\n",
    "from sklearn.model_selection import train_test_split\n",
    "from sklearn.ensemble import RandomForestClassifier\n",
    "from sklearn.model_selection import GridSearchCV\n",
    "from sklearn.model_selection import RandomizedSearchCV\n",
    "import pickle"
   ]
  },
  {
   "cell_type": "code",
   "execution_count": 2,
   "id": "e97c93a5",
   "metadata": {
    "execution": {
     "iopub.execute_input": "2024-10-02T09:36:39.541926Z",
     "iopub.status.busy": "2024-10-02T09:36:39.541213Z",
     "iopub.status.idle": "2024-10-02T09:36:48.478695Z",
     "shell.execute_reply": "2024-10-02T09:36:48.477326Z"
    },
    "papermill": {
     "duration": 8.950704,
     "end_time": "2024-10-02T09:36:48.481560",
     "exception": false,
     "start_time": "2024-10-02T09:36:39.530856",
     "status": "completed"
    },
    "tags": []
   },
   "outputs": [],
   "source": [
    "df = pd.read_csv(r\"C:\\Users\\Downloads\\Intrusion Detection Dataset\\Wednesday-WorkingHours.pcap_ISCX.csv\")"
   ]
  },
  {
   "cell_type": "code",
   "execution_count": 4,
   "id": "01494192",
   "metadata": {
    "execution": {
     "iopub.execute_input": "2024-10-02T09:36:48.497855Z",
     "iopub.status.busy": "2024-10-02T09:36:48.497485Z",
     "iopub.status.idle": "2024-10-02T09:36:48.506597Z",
     "shell.execute_reply": "2024-10-02T09:36:48.505260Z"
    },
    "papermill": {
     "duration": 0.020239,
     "end_time": "2024-10-02T09:36:48.509124",
     "exception": false,
     "start_time": "2024-10-02T09:36:48.488885",
     "status": "completed"
    },
    "tags": []
   },
   "outputs": [
    {
     "data": {
      "text/plain": [
       "Index([' Destination Port', ' Flow Duration', ' Total Fwd Packets',\n",
       "       ' Total Backward Packets', 'Total Length of Fwd Packets',\n",
       "       ' Total Length of Bwd Packets', ' Fwd Packet Length Max',\n",
       "       ' Fwd Packet Length Min', ' Fwd Packet Length Mean',\n",
       "       ' Fwd Packet Length Std', 'Bwd Packet Length Max',\n",
       "       ' Bwd Packet Length Min', ' Bwd Packet Length Mean',\n",
       "       ' Bwd Packet Length Std', 'Flow Bytes/s', ' Flow Packets/s',\n",
       "       ' Flow IAT Mean', ' Flow IAT Std', ' Flow IAT Max', ' Flow IAT Min',\n",
       "       'Fwd IAT Total', ' Fwd IAT Mean', ' Fwd IAT Std', ' Fwd IAT Max',\n",
       "       ' Fwd IAT Min', 'Bwd IAT Total', ' Bwd IAT Mean', ' Bwd IAT Std',\n",
       "       ' Bwd IAT Max', ' Bwd IAT Min', 'Fwd PSH Flags', ' Bwd PSH Flags',\n",
       "       ' Fwd URG Flags', ' Bwd URG Flags', ' Fwd Header Length',\n",
       "       ' Bwd Header Length', 'Fwd Packets/s', ' Bwd Packets/s',\n",
       "       ' Min Packet Length', ' Max Packet Length', ' Packet Length Mean',\n",
       "       ' Packet Length Std', ' Packet Length Variance', 'FIN Flag Count',\n",
       "       ' SYN Flag Count', ' RST Flag Count', ' PSH Flag Count',\n",
       "       ' ACK Flag Count', ' URG Flag Count', ' CWE Flag Count',\n",
       "       ' ECE Flag Count', ' Down/Up Ratio', ' Average Packet Size',\n",
       "       ' Avg Fwd Segment Size', ' Avg Bwd Segment Size',\n",
       "       ' Fwd Header Length.1', 'Fwd Avg Bytes/Bulk', ' Fwd Avg Packets/Bulk',\n",
       "       ' Fwd Avg Bulk Rate', ' Bwd Avg Bytes/Bulk', ' Bwd Avg Packets/Bulk',\n",
       "       'Bwd Avg Bulk Rate', 'Subflow Fwd Packets', ' Subflow Fwd Bytes',\n",
       "       ' Subflow Bwd Packets', ' Subflow Bwd Bytes', 'Init_Win_bytes_forward',\n",
       "       ' Init_Win_bytes_backward', ' act_data_pkt_fwd',\n",
       "       ' min_seg_size_forward', 'Active Mean', ' Active Std', ' Active Max',\n",
       "       ' Active Min', 'Idle Mean', ' Idle Std', ' Idle Max', ' Idle Min',\n",
       "       ' Label'],\n",
       "      dtype='object')"
      ]
     },
     "execution_count": 4,
     "metadata": {},
     "output_type": "execute_result"
    }
   ],
   "source": [
    "df.columns"
   ]
  },
  {
   "cell_type": "code",
   "execution_count": 26,
   "id": "af8555b1",
   "metadata": {},
   "outputs": [
    {
     "name": "stdout",
     "output_type": "stream",
     "text": [
      "[0, 4, 3, 2, 1, 5]\n"
     ]
    }
   ],
   "source": [
    "labels = list(df[\" Label\"].unique())\n",
    "print(labels)"
   ]
  },
  {
   "cell_type": "code",
   "execution_count": 5,
   "id": "b78d6515",
   "metadata": {
    "execution": {
     "iopub.execute_input": "2024-10-02T09:36:48.526762Z",
     "iopub.status.busy": "2024-10-02T09:36:48.526349Z",
     "iopub.status.idle": "2024-10-02T09:36:48.570424Z",
     "shell.execute_reply": "2024-10-02T09:36:48.569016Z"
    },
    "papermill": {
     "duration": 0.055911,
     "end_time": "2024-10-02T09:36:48.573338",
     "exception": false,
     "start_time": "2024-10-02T09:36:48.517427",
     "status": "completed"
    },
    "tags": []
   },
   "outputs": [
    {
     "data": {
      "text/html": [
       "<div>\n",
       "<style scoped>\n",
       "    .dataframe tbody tr th:only-of-type {\n",
       "        vertical-align: middle;\n",
       "    }\n",
       "\n",
       "    .dataframe tbody tr th {\n",
       "        vertical-align: top;\n",
       "    }\n",
       "\n",
       "    .dataframe thead th {\n",
       "        text-align: right;\n",
       "    }\n",
       "</style>\n",
       "<table border=\"1\" class=\"dataframe\">\n",
       "  <thead>\n",
       "    <tr style=\"text-align: right;\">\n",
       "      <th></th>\n",
       "      <th>Destination Port</th>\n",
       "      <th>Flow Duration</th>\n",
       "      <th>Total Fwd Packets</th>\n",
       "      <th>Total Backward Packets</th>\n",
       "      <th>Total Length of Fwd Packets</th>\n",
       "      <th>Total Length of Bwd Packets</th>\n",
       "      <th>Fwd Packet Length Max</th>\n",
       "      <th>Fwd Packet Length Min</th>\n",
       "      <th>Fwd Packet Length Mean</th>\n",
       "      <th>Fwd Packet Length Std</th>\n",
       "      <th>...</th>\n",
       "      <th>min_seg_size_forward</th>\n",
       "      <th>Active Mean</th>\n",
       "      <th>Active Std</th>\n",
       "      <th>Active Max</th>\n",
       "      <th>Active Min</th>\n",
       "      <th>Idle Mean</th>\n",
       "      <th>Idle Std</th>\n",
       "      <th>Idle Max</th>\n",
       "      <th>Idle Min</th>\n",
       "      <th>Label</th>\n",
       "    </tr>\n",
       "  </thead>\n",
       "  <tbody>\n",
       "    <tr>\n",
       "      <th>0</th>\n",
       "      <td>80</td>\n",
       "      <td>38308</td>\n",
       "      <td>1</td>\n",
       "      <td>1</td>\n",
       "      <td>6</td>\n",
       "      <td>6</td>\n",
       "      <td>6</td>\n",
       "      <td>6</td>\n",
       "      <td>6.000000</td>\n",
       "      <td>0.000000</td>\n",
       "      <td>...</td>\n",
       "      <td>20</td>\n",
       "      <td>0.0</td>\n",
       "      <td>0.0</td>\n",
       "      <td>0</td>\n",
       "      <td>0</td>\n",
       "      <td>0.0</td>\n",
       "      <td>0.0</td>\n",
       "      <td>0</td>\n",
       "      <td>0</td>\n",
       "      <td>BENIGN</td>\n",
       "    </tr>\n",
       "    <tr>\n",
       "      <th>1</th>\n",
       "      <td>389</td>\n",
       "      <td>479</td>\n",
       "      <td>11</td>\n",
       "      <td>5</td>\n",
       "      <td>172</td>\n",
       "      <td>326</td>\n",
       "      <td>79</td>\n",
       "      <td>0</td>\n",
       "      <td>15.636364</td>\n",
       "      <td>31.449238</td>\n",
       "      <td>...</td>\n",
       "      <td>32</td>\n",
       "      <td>0.0</td>\n",
       "      <td>0.0</td>\n",
       "      <td>0</td>\n",
       "      <td>0</td>\n",
       "      <td>0.0</td>\n",
       "      <td>0.0</td>\n",
       "      <td>0</td>\n",
       "      <td>0</td>\n",
       "      <td>BENIGN</td>\n",
       "    </tr>\n",
       "    <tr>\n",
       "      <th>2</th>\n",
       "      <td>88</td>\n",
       "      <td>1095</td>\n",
       "      <td>10</td>\n",
       "      <td>6</td>\n",
       "      <td>3150</td>\n",
       "      <td>3150</td>\n",
       "      <td>1575</td>\n",
       "      <td>0</td>\n",
       "      <td>315.000000</td>\n",
       "      <td>632.561635</td>\n",
       "      <td>...</td>\n",
       "      <td>32</td>\n",
       "      <td>0.0</td>\n",
       "      <td>0.0</td>\n",
       "      <td>0</td>\n",
       "      <td>0</td>\n",
       "      <td>0.0</td>\n",
       "      <td>0.0</td>\n",
       "      <td>0</td>\n",
       "      <td>0</td>\n",
       "      <td>BENIGN</td>\n",
       "    </tr>\n",
       "    <tr>\n",
       "      <th>3</th>\n",
       "      <td>389</td>\n",
       "      <td>15206</td>\n",
       "      <td>17</td>\n",
       "      <td>12</td>\n",
       "      <td>3452</td>\n",
       "      <td>6660</td>\n",
       "      <td>1313</td>\n",
       "      <td>0</td>\n",
       "      <td>203.058823</td>\n",
       "      <td>425.778474</td>\n",
       "      <td>...</td>\n",
       "      <td>32</td>\n",
       "      <td>0.0</td>\n",
       "      <td>0.0</td>\n",
       "      <td>0</td>\n",
       "      <td>0</td>\n",
       "      <td>0.0</td>\n",
       "      <td>0.0</td>\n",
       "      <td>0</td>\n",
       "      <td>0</td>\n",
       "      <td>BENIGN</td>\n",
       "    </tr>\n",
       "    <tr>\n",
       "      <th>4</th>\n",
       "      <td>88</td>\n",
       "      <td>1092</td>\n",
       "      <td>9</td>\n",
       "      <td>6</td>\n",
       "      <td>3150</td>\n",
       "      <td>3152</td>\n",
       "      <td>1575</td>\n",
       "      <td>0</td>\n",
       "      <td>350.000000</td>\n",
       "      <td>694.509719</td>\n",
       "      <td>...</td>\n",
       "      <td>32</td>\n",
       "      <td>0.0</td>\n",
       "      <td>0.0</td>\n",
       "      <td>0</td>\n",
       "      <td>0</td>\n",
       "      <td>0.0</td>\n",
       "      <td>0.0</td>\n",
       "      <td>0</td>\n",
       "      <td>0</td>\n",
       "      <td>BENIGN</td>\n",
       "    </tr>\n",
       "  </tbody>\n",
       "</table>\n",
       "<p>5 rows × 79 columns</p>\n",
       "</div>"
      ],
      "text/plain": [
       "    Destination Port   Flow Duration   Total Fwd Packets  \\\n",
       "0                 80           38308                   1   \n",
       "1                389             479                  11   \n",
       "2                 88            1095                  10   \n",
       "3                389           15206                  17   \n",
       "4                 88            1092                   9   \n",
       "\n",
       "    Total Backward Packets  Total Length of Fwd Packets  \\\n",
       "0                        1                            6   \n",
       "1                        5                          172   \n",
       "2                        6                         3150   \n",
       "3                       12                         3452   \n",
       "4                        6                         3150   \n",
       "\n",
       "    Total Length of Bwd Packets   Fwd Packet Length Max  \\\n",
       "0                             6                       6   \n",
       "1                           326                      79   \n",
       "2                          3150                    1575   \n",
       "3                          6660                    1313   \n",
       "4                          3152                    1575   \n",
       "\n",
       "    Fwd Packet Length Min   Fwd Packet Length Mean   Fwd Packet Length Std  \\\n",
       "0                       6                 6.000000                0.000000   \n",
       "1                       0                15.636364               31.449238   \n",
       "2                       0               315.000000              632.561635   \n",
       "3                       0               203.058823              425.778474   \n",
       "4                       0               350.000000              694.509719   \n",
       "\n",
       "   ...   min_seg_size_forward  Active Mean   Active Std   Active Max  \\\n",
       "0  ...                     20          0.0          0.0            0   \n",
       "1  ...                     32          0.0          0.0            0   \n",
       "2  ...                     32          0.0          0.0            0   \n",
       "3  ...                     32          0.0          0.0            0   \n",
       "4  ...                     32          0.0          0.0            0   \n",
       "\n",
       "    Active Min  Idle Mean   Idle Std   Idle Max   Idle Min   Label  \n",
       "0            0        0.0        0.0          0          0  BENIGN  \n",
       "1            0        0.0        0.0          0          0  BENIGN  \n",
       "2            0        0.0        0.0          0          0  BENIGN  \n",
       "3            0        0.0        0.0          0          0  BENIGN  \n",
       "4            0        0.0        0.0          0          0  BENIGN  \n",
       "\n",
       "[5 rows x 79 columns]"
      ]
     },
     "execution_count": 5,
     "metadata": {},
     "output_type": "execute_result"
    }
   ],
   "source": [
    "df.head()"
   ]
  },
  {
   "cell_type": "code",
   "execution_count": 6,
   "id": "8b87aaae",
   "metadata": {
    "execution": {
     "iopub.execute_input": "2024-10-02T09:36:48.591609Z",
     "iopub.status.busy": "2024-10-02T09:36:48.590988Z",
     "iopub.status.idle": "2024-10-02T09:36:48.682493Z",
     "shell.execute_reply": "2024-10-02T09:36:48.681480Z"
    },
    "papermill": {
     "duration": 0.103193,
     "end_time": "2024-10-02T09:36:48.684901",
     "exception": false,
     "start_time": "2024-10-02T09:36:48.581708",
     "status": "completed"
    },
    "tags": []
   },
   "outputs": [
    {
     "data": {
      "text/plain": [
       " Destination Port              0\n",
       " Flow Duration                 0\n",
       " Total Fwd Packets             0\n",
       " Total Backward Packets        0\n",
       "Total Length of Fwd Packets    0\n",
       "                              ..\n",
       "Idle Mean                      0\n",
       " Idle Std                      0\n",
       " Idle Max                      0\n",
       " Idle Min                      0\n",
       " Label                         0\n",
       "Length: 79, dtype: int64"
      ]
     },
     "execution_count": 6,
     "metadata": {},
     "output_type": "execute_result"
    }
   ],
   "source": [
    "df.isnull().sum()"
   ]
  },
  {
   "cell_type": "code",
   "execution_count": 7,
   "id": "66c90a5d",
   "metadata": {
    "execution": {
     "iopub.execute_input": "2024-10-02T09:36:48.703187Z",
     "iopub.status.busy": "2024-10-02T09:36:48.702182Z",
     "iopub.status.idle": "2024-10-02T09:36:48.827639Z",
     "shell.execute_reply": "2024-10-02T09:36:48.826365Z"
    },
    "papermill": {
     "duration": 0.138087,
     "end_time": "2024-10-02T09:36:48.831029",
     "exception": false,
     "start_time": "2024-10-02T09:36:48.692942",
     "status": "completed"
    },
    "tags": []
   },
   "outputs": [
    {
     "name": "stdout",
     "output_type": "stream",
     "text": [
      "<class 'pandas.core.frame.DataFrame'>\n",
      "RangeIndex: 692703 entries, 0 to 692702\n",
      "Data columns (total 79 columns):\n",
      " #   Column                        Non-Null Count   Dtype  \n",
      "---  ------                        --------------   -----  \n",
      " 0    Destination Port             692703 non-null  int64  \n",
      " 1    Flow Duration                692703 non-null  int64  \n",
      " 2    Total Fwd Packets            692703 non-null  int64  \n",
      " 3    Total Backward Packets       692703 non-null  int64  \n",
      " 4   Total Length of Fwd Packets   692703 non-null  int64  \n",
      " 5    Total Length of Bwd Packets  692703 non-null  int64  \n",
      " 6    Fwd Packet Length Max        692703 non-null  int64  \n",
      " 7    Fwd Packet Length Min        692703 non-null  int64  \n",
      " 8    Fwd Packet Length Mean       692703 non-null  float64\n",
      " 9    Fwd Packet Length Std        692703 non-null  float64\n",
      " 10  Bwd Packet Length Max         692703 non-null  int64  \n",
      " 11   Bwd Packet Length Min        692703 non-null  int64  \n",
      " 12   Bwd Packet Length Mean       692703 non-null  float64\n",
      " 13   Bwd Packet Length Std        692703 non-null  float64\n",
      " 14  Flow Bytes/s                  691695 non-null  float64\n",
      " 15   Flow Packets/s               692703 non-null  float64\n",
      " 16   Flow IAT Mean                692703 non-null  float64\n",
      " 17   Flow IAT Std                 692703 non-null  float64\n",
      " 18   Flow IAT Max                 692703 non-null  int64  \n",
      " 19   Flow IAT Min                 692703 non-null  int64  \n",
      " 20  Fwd IAT Total                 692703 non-null  int64  \n",
      " 21   Fwd IAT Mean                 692703 non-null  float64\n",
      " 22   Fwd IAT Std                  692703 non-null  float64\n",
      " 23   Fwd IAT Max                  692703 non-null  int64  \n",
      " 24   Fwd IAT Min                  692703 non-null  int64  \n",
      " 25  Bwd IAT Total                 692703 non-null  int64  \n",
      " 26   Bwd IAT Mean                 692703 non-null  float64\n",
      " 27   Bwd IAT Std                  692703 non-null  float64\n",
      " 28   Bwd IAT Max                  692703 non-null  int64  \n",
      " 29   Bwd IAT Min                  692703 non-null  int64  \n",
      " 30  Fwd PSH Flags                 692703 non-null  int64  \n",
      " 31   Bwd PSH Flags                692703 non-null  int64  \n",
      " 32   Fwd URG Flags                692703 non-null  int64  \n",
      " 33   Bwd URG Flags                692703 non-null  int64  \n",
      " 34   Fwd Header Length            692703 non-null  int64  \n",
      " 35   Bwd Header Length            692703 non-null  int64  \n",
      " 36  Fwd Packets/s                 692703 non-null  float64\n",
      " 37   Bwd Packets/s                692703 non-null  float64\n",
      " 38   Min Packet Length            692703 non-null  int64  \n",
      " 39   Max Packet Length            692703 non-null  int64  \n",
      " 40   Packet Length Mean           692703 non-null  float64\n",
      " 41   Packet Length Std            692703 non-null  float64\n",
      " 42   Packet Length Variance       692703 non-null  float64\n",
      " 43  FIN Flag Count                692703 non-null  int64  \n",
      " 44   SYN Flag Count               692703 non-null  int64  \n",
      " 45   RST Flag Count               692703 non-null  int64  \n",
      " 46   PSH Flag Count               692703 non-null  int64  \n",
      " 47   ACK Flag Count               692703 non-null  int64  \n",
      " 48   URG Flag Count               692703 non-null  int64  \n",
      " 49   CWE Flag Count               692703 non-null  int64  \n",
      " 50   ECE Flag Count               692703 non-null  int64  \n",
      " 51   Down/Up Ratio                692703 non-null  int64  \n",
      " 52   Average Packet Size          692703 non-null  float64\n",
      " 53   Avg Fwd Segment Size         692703 non-null  float64\n",
      " 54   Avg Bwd Segment Size         692703 non-null  float64\n",
      " 55   Fwd Header Length.1          692703 non-null  int64  \n",
      " 56  Fwd Avg Bytes/Bulk            692703 non-null  int64  \n",
      " 57   Fwd Avg Packets/Bulk         692703 non-null  int64  \n",
      " 58   Fwd Avg Bulk Rate            692703 non-null  int64  \n",
      " 59   Bwd Avg Bytes/Bulk           692703 non-null  int64  \n",
      " 60   Bwd Avg Packets/Bulk         692703 non-null  int64  \n",
      " 61  Bwd Avg Bulk Rate             692703 non-null  int64  \n",
      " 62  Subflow Fwd Packets           692703 non-null  int64  \n",
      " 63   Subflow Fwd Bytes            692703 non-null  int64  \n",
      " 64   Subflow Bwd Packets          692703 non-null  int64  \n",
      " 65   Subflow Bwd Bytes            692703 non-null  int64  \n",
      " 66  Init_Win_bytes_forward        692703 non-null  int64  \n",
      " 67   Init_Win_bytes_backward      692703 non-null  int64  \n",
      " 68   act_data_pkt_fwd             692703 non-null  int64  \n",
      " 69   min_seg_size_forward         692703 non-null  int64  \n",
      " 70  Active Mean                   692703 non-null  float64\n",
      " 71   Active Std                   692703 non-null  float64\n",
      " 72   Active Max                   692703 non-null  int64  \n",
      " 73   Active Min                   692703 non-null  int64  \n",
      " 74  Idle Mean                     692703 non-null  float64\n",
      " 75   Idle Std                     692703 non-null  float64\n",
      " 76   Idle Max                     692703 non-null  int64  \n",
      " 77   Idle Min                     692703 non-null  int64  \n",
      " 78   Label                        692703 non-null  object \n",
      "dtypes: float64(24), int64(54), object(1)\n",
      "memory usage: 417.5+ MB\n"
     ]
    }
   ],
   "source": [
    "df.info()"
   ]
  },
  {
   "cell_type": "code",
   "execution_count": 8,
   "id": "62bea4a7",
   "metadata": {},
   "outputs": [
    {
     "data": {
      "text/plain": [
       "(692703, 79)"
      ]
     },
     "execution_count": 8,
     "metadata": {},
     "output_type": "execute_result"
    }
   ],
   "source": [
    "df.shape"
   ]
  },
  {
   "cell_type": "markdown",
   "id": "10343654",
   "metadata": {},
   "source": [
    "<b>\n",
    "\n",
    "- There are no categorical features\n",
    "- Each feature is numerical"
   ]
  },
  {
   "cell_type": "code",
   "execution_count": 9,
   "id": "ccd76353",
   "metadata": {
    "execution": {
     "iopub.execute_input": "2024-10-02T09:36:48.850198Z",
     "iopub.status.busy": "2024-10-02T09:36:48.849811Z",
     "iopub.status.idle": "2024-10-02T09:36:49.001289Z",
     "shell.execute_reply": "2024-10-02T09:36:48.999990Z"
    },
    "papermill": {
     "duration": 0.164557,
     "end_time": "2024-10-02T09:36:49.004091",
     "exception": false,
     "start_time": "2024-10-02T09:36:48.839534",
     "status": "completed"
    },
    "scrolled": true,
    "tags": []
   },
   "outputs": [
    {
     "data": {
      "text/html": [
       "<div>\n",
       "<style scoped>\n",
       "    .dataframe tbody tr th:only-of-type {\n",
       "        vertical-align: middle;\n",
       "    }\n",
       "\n",
       "    .dataframe tbody tr th {\n",
       "        vertical-align: top;\n",
       "    }\n",
       "\n",
       "    .dataframe thead th {\n",
       "        text-align: right;\n",
       "    }\n",
       "</style>\n",
       "<table border=\"1\" class=\"dataframe\">\n",
       "  <thead>\n",
       "    <tr style=\"text-align: right;\">\n",
       "      <th></th>\n",
       "      <th>Destination Port</th>\n",
       "      <th>Flow Duration</th>\n",
       "      <th>Total Fwd Packets</th>\n",
       "      <th>Total Backward Packets</th>\n",
       "      <th>Total Length of Fwd Packets</th>\n",
       "      <th>Total Length of Bwd Packets</th>\n",
       "      <th>Fwd Packet Length Max</th>\n",
       "      <th>Fwd Packet Length Min</th>\n",
       "      <th>Fwd Packet Length Mean</th>\n",
       "      <th>Fwd Packet Length Std</th>\n",
       "      <th>...</th>\n",
       "      <th>min_seg_size_forward</th>\n",
       "      <th>Active Mean</th>\n",
       "      <th>Active Std</th>\n",
       "      <th>Active Max</th>\n",
       "      <th>Active Min</th>\n",
       "      <th>Idle Mean</th>\n",
       "      <th>Idle Std</th>\n",
       "      <th>Idle Max</th>\n",
       "      <th>Idle Min</th>\n",
       "      <th>Label</th>\n",
       "    </tr>\n",
       "  </thead>\n",
       "  <tbody>\n",
       "    <tr>\n",
       "      <th>0</th>\n",
       "      <td>80</td>\n",
       "      <td>38308</td>\n",
       "      <td>1</td>\n",
       "      <td>1</td>\n",
       "      <td>6</td>\n",
       "      <td>6</td>\n",
       "      <td>6</td>\n",
       "      <td>6</td>\n",
       "      <td>6.000000</td>\n",
       "      <td>0.000000</td>\n",
       "      <td>...</td>\n",
       "      <td>20</td>\n",
       "      <td>0.0</td>\n",
       "      <td>0.0</td>\n",
       "      <td>0</td>\n",
       "      <td>0</td>\n",
       "      <td>0.0</td>\n",
       "      <td>0.0</td>\n",
       "      <td>0</td>\n",
       "      <td>0</td>\n",
       "      <td>BENIGN</td>\n",
       "    </tr>\n",
       "    <tr>\n",
       "      <th>1</th>\n",
       "      <td>389</td>\n",
       "      <td>479</td>\n",
       "      <td>11</td>\n",
       "      <td>5</td>\n",
       "      <td>172</td>\n",
       "      <td>326</td>\n",
       "      <td>79</td>\n",
       "      <td>0</td>\n",
       "      <td>15.636364</td>\n",
       "      <td>31.449238</td>\n",
       "      <td>...</td>\n",
       "      <td>32</td>\n",
       "      <td>0.0</td>\n",
       "      <td>0.0</td>\n",
       "      <td>0</td>\n",
       "      <td>0</td>\n",
       "      <td>0.0</td>\n",
       "      <td>0.0</td>\n",
       "      <td>0</td>\n",
       "      <td>0</td>\n",
       "      <td>BENIGN</td>\n",
       "    </tr>\n",
       "    <tr>\n",
       "      <th>2</th>\n",
       "      <td>88</td>\n",
       "      <td>1095</td>\n",
       "      <td>10</td>\n",
       "      <td>6</td>\n",
       "      <td>3150</td>\n",
       "      <td>3150</td>\n",
       "      <td>1575</td>\n",
       "      <td>0</td>\n",
       "      <td>315.000000</td>\n",
       "      <td>632.561635</td>\n",
       "      <td>...</td>\n",
       "      <td>32</td>\n",
       "      <td>0.0</td>\n",
       "      <td>0.0</td>\n",
       "      <td>0</td>\n",
       "      <td>0</td>\n",
       "      <td>0.0</td>\n",
       "      <td>0.0</td>\n",
       "      <td>0</td>\n",
       "      <td>0</td>\n",
       "      <td>BENIGN</td>\n",
       "    </tr>\n",
       "    <tr>\n",
       "      <th>3</th>\n",
       "      <td>389</td>\n",
       "      <td>15206</td>\n",
       "      <td>17</td>\n",
       "      <td>12</td>\n",
       "      <td>3452</td>\n",
       "      <td>6660</td>\n",
       "      <td>1313</td>\n",
       "      <td>0</td>\n",
       "      <td>203.058823</td>\n",
       "      <td>425.778474</td>\n",
       "      <td>...</td>\n",
       "      <td>32</td>\n",
       "      <td>0.0</td>\n",
       "      <td>0.0</td>\n",
       "      <td>0</td>\n",
       "      <td>0</td>\n",
       "      <td>0.0</td>\n",
       "      <td>0.0</td>\n",
       "      <td>0</td>\n",
       "      <td>0</td>\n",
       "      <td>BENIGN</td>\n",
       "    </tr>\n",
       "    <tr>\n",
       "      <th>4</th>\n",
       "      <td>88</td>\n",
       "      <td>1092</td>\n",
       "      <td>9</td>\n",
       "      <td>6</td>\n",
       "      <td>3150</td>\n",
       "      <td>3152</td>\n",
       "      <td>1575</td>\n",
       "      <td>0</td>\n",
       "      <td>350.000000</td>\n",
       "      <td>694.509719</td>\n",
       "      <td>...</td>\n",
       "      <td>32</td>\n",
       "      <td>0.0</td>\n",
       "      <td>0.0</td>\n",
       "      <td>0</td>\n",
       "      <td>0</td>\n",
       "      <td>0.0</td>\n",
       "      <td>0.0</td>\n",
       "      <td>0</td>\n",
       "      <td>0</td>\n",
       "      <td>BENIGN</td>\n",
       "    </tr>\n",
       "    <tr>\n",
       "      <th>...</th>\n",
       "      <td>...</td>\n",
       "      <td>...</td>\n",
       "      <td>...</td>\n",
       "      <td>...</td>\n",
       "      <td>...</td>\n",
       "      <td>...</td>\n",
       "      <td>...</td>\n",
       "      <td>...</td>\n",
       "      <td>...</td>\n",
       "      <td>...</td>\n",
       "      <td>...</td>\n",
       "      <td>...</td>\n",
       "      <td>...</td>\n",
       "      <td>...</td>\n",
       "      <td>...</td>\n",
       "      <td>...</td>\n",
       "      <td>...</td>\n",
       "      <td>...</td>\n",
       "      <td>...</td>\n",
       "      <td>...</td>\n",
       "      <td>...</td>\n",
       "    </tr>\n",
       "    <tr>\n",
       "      <th>692698</th>\n",
       "      <td>53</td>\n",
       "      <td>32215</td>\n",
       "      <td>4</td>\n",
       "      <td>2</td>\n",
       "      <td>112</td>\n",
       "      <td>152</td>\n",
       "      <td>28</td>\n",
       "      <td>28</td>\n",
       "      <td>28.000000</td>\n",
       "      <td>0.000000</td>\n",
       "      <td>...</td>\n",
       "      <td>20</td>\n",
       "      <td>0.0</td>\n",
       "      <td>0.0</td>\n",
       "      <td>0</td>\n",
       "      <td>0</td>\n",
       "      <td>0.0</td>\n",
       "      <td>0.0</td>\n",
       "      <td>0</td>\n",
       "      <td>0</td>\n",
       "      <td>BENIGN</td>\n",
       "    </tr>\n",
       "    <tr>\n",
       "      <th>692699</th>\n",
       "      <td>53</td>\n",
       "      <td>324</td>\n",
       "      <td>2</td>\n",
       "      <td>2</td>\n",
       "      <td>84</td>\n",
       "      <td>362</td>\n",
       "      <td>42</td>\n",
       "      <td>42</td>\n",
       "      <td>42.000000</td>\n",
       "      <td>0.000000</td>\n",
       "      <td>...</td>\n",
       "      <td>20</td>\n",
       "      <td>0.0</td>\n",
       "      <td>0.0</td>\n",
       "      <td>0</td>\n",
       "      <td>0</td>\n",
       "      <td>0.0</td>\n",
       "      <td>0.0</td>\n",
       "      <td>0</td>\n",
       "      <td>0</td>\n",
       "      <td>BENIGN</td>\n",
       "    </tr>\n",
       "    <tr>\n",
       "      <th>692700</th>\n",
       "      <td>58030</td>\n",
       "      <td>82</td>\n",
       "      <td>2</td>\n",
       "      <td>1</td>\n",
       "      <td>31</td>\n",
       "      <td>6</td>\n",
       "      <td>31</td>\n",
       "      <td>0</td>\n",
       "      <td>15.500000</td>\n",
       "      <td>21.920310</td>\n",
       "      <td>...</td>\n",
       "      <td>32</td>\n",
       "      <td>0.0</td>\n",
       "      <td>0.0</td>\n",
       "      <td>0</td>\n",
       "      <td>0</td>\n",
       "      <td>0.0</td>\n",
       "      <td>0.0</td>\n",
       "      <td>0</td>\n",
       "      <td>0</td>\n",
       "      <td>BENIGN</td>\n",
       "    </tr>\n",
       "    <tr>\n",
       "      <th>692701</th>\n",
       "      <td>53</td>\n",
       "      <td>1048635</td>\n",
       "      <td>6</td>\n",
       "      <td>2</td>\n",
       "      <td>192</td>\n",
       "      <td>256</td>\n",
       "      <td>32</td>\n",
       "      <td>32</td>\n",
       "      <td>32.000000</td>\n",
       "      <td>0.000000</td>\n",
       "      <td>...</td>\n",
       "      <td>20</td>\n",
       "      <td>0.0</td>\n",
       "      <td>0.0</td>\n",
       "      <td>0</td>\n",
       "      <td>0</td>\n",
       "      <td>0.0</td>\n",
       "      <td>0.0</td>\n",
       "      <td>0</td>\n",
       "      <td>0</td>\n",
       "      <td>BENIGN</td>\n",
       "    </tr>\n",
       "    <tr>\n",
       "      <th>692702</th>\n",
       "      <td>53</td>\n",
       "      <td>94939</td>\n",
       "      <td>4</td>\n",
       "      <td>2</td>\n",
       "      <td>188</td>\n",
       "      <td>226</td>\n",
       "      <td>47</td>\n",
       "      <td>47</td>\n",
       "      <td>47.000000</td>\n",
       "      <td>0.000000</td>\n",
       "      <td>...</td>\n",
       "      <td>20</td>\n",
       "      <td>0.0</td>\n",
       "      <td>0.0</td>\n",
       "      <td>0</td>\n",
       "      <td>0</td>\n",
       "      <td>0.0</td>\n",
       "      <td>0.0</td>\n",
       "      <td>0</td>\n",
       "      <td>0</td>\n",
       "      <td>BENIGN</td>\n",
       "    </tr>\n",
       "  </tbody>\n",
       "</table>\n",
       "<p>692703 rows × 79 columns</p>\n",
       "</div>"
      ],
      "text/plain": [
       "         Destination Port   Flow Duration   Total Fwd Packets  \\\n",
       "0                      80           38308                   1   \n",
       "1                     389             479                  11   \n",
       "2                      88            1095                  10   \n",
       "3                     389           15206                  17   \n",
       "4                      88            1092                   9   \n",
       "...                   ...             ...                 ...   \n",
       "692698                 53           32215                   4   \n",
       "692699                 53             324                   2   \n",
       "692700              58030              82                   2   \n",
       "692701                 53         1048635                   6   \n",
       "692702                 53           94939                   4   \n",
       "\n",
       "         Total Backward Packets  Total Length of Fwd Packets  \\\n",
       "0                             1                            6   \n",
       "1                             5                          172   \n",
       "2                             6                         3150   \n",
       "3                            12                         3452   \n",
       "4                             6                         3150   \n",
       "...                         ...                          ...   \n",
       "692698                        2                          112   \n",
       "692699                        2                           84   \n",
       "692700                        1                           31   \n",
       "692701                        2                          192   \n",
       "692702                        2                          188   \n",
       "\n",
       "         Total Length of Bwd Packets   Fwd Packet Length Max  \\\n",
       "0                                  6                       6   \n",
       "1                                326                      79   \n",
       "2                               3150                    1575   \n",
       "3                               6660                    1313   \n",
       "4                               3152                    1575   \n",
       "...                              ...                     ...   \n",
       "692698                           152                      28   \n",
       "692699                           362                      42   \n",
       "692700                             6                      31   \n",
       "692701                           256                      32   \n",
       "692702                           226                      47   \n",
       "\n",
       "         Fwd Packet Length Min   Fwd Packet Length Mean  \\\n",
       "0                            6                 6.000000   \n",
       "1                            0                15.636364   \n",
       "2                            0               315.000000   \n",
       "3                            0               203.058823   \n",
       "4                            0               350.000000   \n",
       "...                        ...                      ...   \n",
       "692698                      28                28.000000   \n",
       "692699                      42                42.000000   \n",
       "692700                       0                15.500000   \n",
       "692701                      32                32.000000   \n",
       "692702                      47                47.000000   \n",
       "\n",
       "         Fwd Packet Length Std  ...   min_seg_size_forward  Active Mean  \\\n",
       "0                     0.000000  ...                     20          0.0   \n",
       "1                    31.449238  ...                     32          0.0   \n",
       "2                   632.561635  ...                     32          0.0   \n",
       "3                   425.778474  ...                     32          0.0   \n",
       "4                   694.509719  ...                     32          0.0   \n",
       "...                        ...  ...                    ...          ...   \n",
       "692698                0.000000  ...                     20          0.0   \n",
       "692699                0.000000  ...                     20          0.0   \n",
       "692700               21.920310  ...                     32          0.0   \n",
       "692701                0.000000  ...                     20          0.0   \n",
       "692702                0.000000  ...                     20          0.0   \n",
       "\n",
       "         Active Std   Active Max   Active Min  Idle Mean   Idle Std  \\\n",
       "0               0.0            0            0        0.0        0.0   \n",
       "1               0.0            0            0        0.0        0.0   \n",
       "2               0.0            0            0        0.0        0.0   \n",
       "3               0.0            0            0        0.0        0.0   \n",
       "4               0.0            0            0        0.0        0.0   \n",
       "...             ...          ...          ...        ...        ...   \n",
       "692698          0.0            0            0        0.0        0.0   \n",
       "692699          0.0            0            0        0.0        0.0   \n",
       "692700          0.0            0            0        0.0        0.0   \n",
       "692701          0.0            0            0        0.0        0.0   \n",
       "692702          0.0            0            0        0.0        0.0   \n",
       "\n",
       "         Idle Max   Idle Min   Label  \n",
       "0               0          0  BENIGN  \n",
       "1               0          0  BENIGN  \n",
       "2               0          0  BENIGN  \n",
       "3               0          0  BENIGN  \n",
       "4               0          0  BENIGN  \n",
       "...           ...        ...     ...  \n",
       "692698          0          0  BENIGN  \n",
       "692699          0          0  BENIGN  \n",
       "692700          0          0  BENIGN  \n",
       "692701          0          0  BENIGN  \n",
       "692702          0          0  BENIGN  \n",
       "\n",
       "[692703 rows x 79 columns]"
      ]
     },
     "execution_count": 9,
     "metadata": {},
     "output_type": "execute_result"
    }
   ],
   "source": [
    "df"
   ]
  },
  {
   "cell_type": "markdown",
   "id": "b71cc1da",
   "metadata": {},
   "source": [
    "<h3> Transform actual labels into numerical data </h3>"
   ]
  },
  {
   "cell_type": "code",
   "execution_count": 10,
   "id": "3d85a669",
   "metadata": {
    "execution": {
     "iopub.execute_input": "2024-10-02T09:36:49.044211Z",
     "iopub.status.busy": "2024-10-02T09:36:49.043793Z",
     "iopub.status.idle": "2024-10-02T09:36:50.534860Z",
     "shell.execute_reply": "2024-10-02T09:36:50.533508Z"
    },
    "papermill": {
     "duration": 1.505625,
     "end_time": "2024-10-02T09:36:50.537596",
     "exception": false,
     "start_time": "2024-10-02T09:36:49.031971",
     "status": "completed"
    },
    "tags": []
   },
   "outputs": [],
   "source": [
    "from sklearn.preprocessing import LabelEncoder"
   ]
  },
  {
   "cell_type": "code",
   "execution_count": 28,
   "id": "3fd4a0fd",
   "metadata": {},
   "outputs": [
    {
     "name": "stdout",
     "output_type": "stream",
     "text": [
      "['BENIGN' 'DoS GoldenEye' 'DoS Hulk' 'DoS Slowhttptest' 'DoS slowloris'\n",
      " 'Heartbleed']\n"
     ]
    }
   ],
   "source": [
    "labels = encoder.classes_\n",
    "print(labels)"
   ]
  },
  {
   "cell_type": "code",
   "execution_count": 11,
   "id": "997dc7b1",
   "metadata": {
    "execution": {
     "iopub.execute_input": "2024-10-02T09:36:50.557840Z",
     "iopub.status.busy": "2024-10-02T09:36:50.557407Z",
     "iopub.status.idle": "2024-10-02T09:36:50.702752Z",
     "shell.execute_reply": "2024-10-02T09:36:50.701339Z"
    },
    "papermill": {
     "duration": 0.159157,
     "end_time": "2024-10-02T09:36:50.705620",
     "exception": false,
     "start_time": "2024-10-02T09:36:50.546463",
     "status": "completed"
    },
    "tags": []
   },
   "outputs": [],
   "source": [
    "encoder = LabelEncoder()\n",
    "df[' Label']=encoder.fit_transform(df[' Label'])"
   ]
  },
  {
   "cell_type": "code",
   "execution_count": 12,
   "id": "2e4eae7f",
   "metadata": {
    "execution": {
     "iopub.execute_input": "2024-10-02T09:36:50.726748Z",
     "iopub.status.busy": "2024-10-02T09:36:50.726339Z",
     "iopub.status.idle": "2024-10-02T09:36:50.749442Z",
     "shell.execute_reply": "2024-10-02T09:36:50.747989Z"
    },
    "papermill": {
     "duration": 0.036981,
     "end_time": "2024-10-02T09:36:50.752173",
     "exception": false,
     "start_time": "2024-10-02T09:36:50.715192",
     "status": "completed"
    },
    "tags": []
   },
   "outputs": [
    {
     "data": {
      "text/html": [
       "<div>\n",
       "<style scoped>\n",
       "    .dataframe tbody tr th:only-of-type {\n",
       "        vertical-align: middle;\n",
       "    }\n",
       "\n",
       "    .dataframe tbody tr th {\n",
       "        vertical-align: top;\n",
       "    }\n",
       "\n",
       "    .dataframe thead th {\n",
       "        text-align: right;\n",
       "    }\n",
       "</style>\n",
       "<table border=\"1\" class=\"dataframe\">\n",
       "  <thead>\n",
       "    <tr style=\"text-align: right;\">\n",
       "      <th></th>\n",
       "      <th>Destination Port</th>\n",
       "      <th>Flow Duration</th>\n",
       "      <th>Total Fwd Packets</th>\n",
       "      <th>Total Backward Packets</th>\n",
       "      <th>Total Length of Fwd Packets</th>\n",
       "      <th>Total Length of Bwd Packets</th>\n",
       "      <th>Fwd Packet Length Max</th>\n",
       "      <th>Fwd Packet Length Min</th>\n",
       "      <th>Fwd Packet Length Mean</th>\n",
       "      <th>Fwd Packet Length Std</th>\n",
       "      <th>...</th>\n",
       "      <th>min_seg_size_forward</th>\n",
       "      <th>Active Mean</th>\n",
       "      <th>Active Std</th>\n",
       "      <th>Active Max</th>\n",
       "      <th>Active Min</th>\n",
       "      <th>Idle Mean</th>\n",
       "      <th>Idle Std</th>\n",
       "      <th>Idle Max</th>\n",
       "      <th>Idle Min</th>\n",
       "      <th>Label</th>\n",
       "    </tr>\n",
       "  </thead>\n",
       "  <tbody>\n",
       "    <tr>\n",
       "      <th>0</th>\n",
       "      <td>80</td>\n",
       "      <td>38308</td>\n",
       "      <td>1</td>\n",
       "      <td>1</td>\n",
       "      <td>6</td>\n",
       "      <td>6</td>\n",
       "      <td>6</td>\n",
       "      <td>6</td>\n",
       "      <td>6.000000</td>\n",
       "      <td>0.000000</td>\n",
       "      <td>...</td>\n",
       "      <td>20</td>\n",
       "      <td>0.0</td>\n",
       "      <td>0.0</td>\n",
       "      <td>0</td>\n",
       "      <td>0</td>\n",
       "      <td>0.0</td>\n",
       "      <td>0.0</td>\n",
       "      <td>0</td>\n",
       "      <td>0</td>\n",
       "      <td>0</td>\n",
       "    </tr>\n",
       "    <tr>\n",
       "      <th>1</th>\n",
       "      <td>389</td>\n",
       "      <td>479</td>\n",
       "      <td>11</td>\n",
       "      <td>5</td>\n",
       "      <td>172</td>\n",
       "      <td>326</td>\n",
       "      <td>79</td>\n",
       "      <td>0</td>\n",
       "      <td>15.636364</td>\n",
       "      <td>31.449238</td>\n",
       "      <td>...</td>\n",
       "      <td>32</td>\n",
       "      <td>0.0</td>\n",
       "      <td>0.0</td>\n",
       "      <td>0</td>\n",
       "      <td>0</td>\n",
       "      <td>0.0</td>\n",
       "      <td>0.0</td>\n",
       "      <td>0</td>\n",
       "      <td>0</td>\n",
       "      <td>0</td>\n",
       "    </tr>\n",
       "    <tr>\n",
       "      <th>2</th>\n",
       "      <td>88</td>\n",
       "      <td>1095</td>\n",
       "      <td>10</td>\n",
       "      <td>6</td>\n",
       "      <td>3150</td>\n",
       "      <td>3150</td>\n",
       "      <td>1575</td>\n",
       "      <td>0</td>\n",
       "      <td>315.000000</td>\n",
       "      <td>632.561635</td>\n",
       "      <td>...</td>\n",
       "      <td>32</td>\n",
       "      <td>0.0</td>\n",
       "      <td>0.0</td>\n",
       "      <td>0</td>\n",
       "      <td>0</td>\n",
       "      <td>0.0</td>\n",
       "      <td>0.0</td>\n",
       "      <td>0</td>\n",
       "      <td>0</td>\n",
       "      <td>0</td>\n",
       "    </tr>\n",
       "    <tr>\n",
       "      <th>3</th>\n",
       "      <td>389</td>\n",
       "      <td>15206</td>\n",
       "      <td>17</td>\n",
       "      <td>12</td>\n",
       "      <td>3452</td>\n",
       "      <td>6660</td>\n",
       "      <td>1313</td>\n",
       "      <td>0</td>\n",
       "      <td>203.058823</td>\n",
       "      <td>425.778474</td>\n",
       "      <td>...</td>\n",
       "      <td>32</td>\n",
       "      <td>0.0</td>\n",
       "      <td>0.0</td>\n",
       "      <td>0</td>\n",
       "      <td>0</td>\n",
       "      <td>0.0</td>\n",
       "      <td>0.0</td>\n",
       "      <td>0</td>\n",
       "      <td>0</td>\n",
       "      <td>0</td>\n",
       "    </tr>\n",
       "    <tr>\n",
       "      <th>4</th>\n",
       "      <td>88</td>\n",
       "      <td>1092</td>\n",
       "      <td>9</td>\n",
       "      <td>6</td>\n",
       "      <td>3150</td>\n",
       "      <td>3152</td>\n",
       "      <td>1575</td>\n",
       "      <td>0</td>\n",
       "      <td>350.000000</td>\n",
       "      <td>694.509719</td>\n",
       "      <td>...</td>\n",
       "      <td>32</td>\n",
       "      <td>0.0</td>\n",
       "      <td>0.0</td>\n",
       "      <td>0</td>\n",
       "      <td>0</td>\n",
       "      <td>0.0</td>\n",
       "      <td>0.0</td>\n",
       "      <td>0</td>\n",
       "      <td>0</td>\n",
       "      <td>0</td>\n",
       "    </tr>\n",
       "  </tbody>\n",
       "</table>\n",
       "<p>5 rows × 79 columns</p>\n",
       "</div>"
      ],
      "text/plain": [
       "    Destination Port   Flow Duration   Total Fwd Packets  \\\n",
       "0                 80           38308                   1   \n",
       "1                389             479                  11   \n",
       "2                 88            1095                  10   \n",
       "3                389           15206                  17   \n",
       "4                 88            1092                   9   \n",
       "\n",
       "    Total Backward Packets  Total Length of Fwd Packets  \\\n",
       "0                        1                            6   \n",
       "1                        5                          172   \n",
       "2                        6                         3150   \n",
       "3                       12                         3452   \n",
       "4                        6                         3150   \n",
       "\n",
       "    Total Length of Bwd Packets   Fwd Packet Length Max  \\\n",
       "0                             6                       6   \n",
       "1                           326                      79   \n",
       "2                          3150                    1575   \n",
       "3                          6660                    1313   \n",
       "4                          3152                    1575   \n",
       "\n",
       "    Fwd Packet Length Min   Fwd Packet Length Mean   Fwd Packet Length Std  \\\n",
       "0                       6                 6.000000                0.000000   \n",
       "1                       0                15.636364               31.449238   \n",
       "2                       0               315.000000              632.561635   \n",
       "3                       0               203.058823              425.778474   \n",
       "4                       0               350.000000              694.509719   \n",
       "\n",
       "   ...   min_seg_size_forward  Active Mean   Active Std   Active Max  \\\n",
       "0  ...                     20          0.0          0.0            0   \n",
       "1  ...                     32          0.0          0.0            0   \n",
       "2  ...                     32          0.0          0.0            0   \n",
       "3  ...                     32          0.0          0.0            0   \n",
       "4  ...                     32          0.0          0.0            0   \n",
       "\n",
       "    Active Min  Idle Mean   Idle Std   Idle Max   Idle Min   Label  \n",
       "0            0        0.0        0.0          0          0       0  \n",
       "1            0        0.0        0.0          0          0       0  \n",
       "2            0        0.0        0.0          0          0       0  \n",
       "3            0        0.0        0.0          0          0       0  \n",
       "4            0        0.0        0.0          0          0       0  \n",
       "\n",
       "[5 rows x 79 columns]"
      ]
     },
     "execution_count": 12,
     "metadata": {},
     "output_type": "execute_result"
    }
   ],
   "source": [
    "df.head()"
   ]
  },
  {
   "cell_type": "code",
   "execution_count": 13,
   "id": "8bac8e50",
   "metadata": {},
   "outputs": [
    {
     "data": {
      "text/plain": [
       " Label\n",
       "0    440031\n",
       "2    231073\n",
       "1     10293\n",
       "4      5796\n",
       "3      5499\n",
       "5        11\n",
       "Name: count, dtype: int64"
      ]
     },
     "execution_count": 13,
     "metadata": {},
     "output_type": "execute_result"
    }
   ],
   "source": [
    "df[' Label'].value_counts()"
   ]
  },
  {
   "cell_type": "markdown",
   "id": "a33a9919",
   "metadata": {
    "papermill": {
     "duration": 0.011152,
     "end_time": "2024-10-02T09:36:50.772630",
     "exception": false,
     "start_time": "2024-10-02T09:36:50.761478",
     "status": "completed"
    },
    "tags": []
   },
   "source": [
    "# here 0 = benign ,1 = dos golden eye,2= dos hulk ,3= dos slowhttptest "
   ]
  },
  {
   "cell_type": "code",
   "execution_count": 14,
   "id": "64f8617c",
   "metadata": {},
   "outputs": [
    {
     "data": {
      "text/plain": [
       " Destination Port              0\n",
       " Flow Duration                 0\n",
       " Total Fwd Packets             0\n",
       " Total Backward Packets        0\n",
       "Total Length of Fwd Packets    0\n",
       "                              ..\n",
       "Idle Mean                      0\n",
       " Idle Std                      0\n",
       " Idle Max                      0\n",
       " Idle Min                      0\n",
       " Label                         0\n",
       "Length: 79, dtype: int64"
      ]
     },
     "execution_count": 14,
     "metadata": {},
     "output_type": "execute_result"
    }
   ],
   "source": [
    "df.isnull().sum()"
   ]
  },
  {
   "cell_type": "markdown",
   "id": "03d5e3e2",
   "metadata": {},
   "source": [
    "<h4> Data Clipping </h4>"
   ]
  },
  {
   "cell_type": "code",
   "execution_count": 15,
   "id": "d2548c4d",
   "metadata": {},
   "outputs": [],
   "source": [
    "Target= ' Label'\n",
    "X = df.loc[:, df.columns != Target]\n",
    "y = df.loc[:,Target]\n",
    "\n",
    "\n",
    "lower_bound=0\n",
    "upper_bound=150\n",
    "X_clipped = np.clip(X, lower_bound, upper_bound) "
   ]
  },
  {
   "cell_type": "code",
   "execution_count": 16,
   "id": "ebaa1f66",
   "metadata": {
    "execution": {
     "iopub.execute_input": "2024-10-02T09:36:51.421925Z",
     "iopub.status.busy": "2024-10-02T09:36:51.421537Z",
     "iopub.status.idle": "2024-10-02T09:36:53.902930Z",
     "shell.execute_reply": "2024-10-02T09:36:53.901616Z"
    },
    "papermill": {
     "duration": 2.496429,
     "end_time": "2024-10-02T09:36:53.906488",
     "exception": false,
     "start_time": "2024-10-02T09:36:51.410059",
     "status": "completed"
    },
    "tags": []
   },
   "outputs": [],
   "source": [
    "from sklearn.impute import SimpleImputer\n",
    "imputer = SimpleImputer(strategy='mean')\n",
    "X_imputed = imputer.fit_transform(X_clipped)"
   ]
  },
  {
   "cell_type": "markdown",
   "id": "a48b9e3e",
   "metadata": {},
   "source": [
    "- We want to select top 10 features that are useful in predicting the target variable"
   ]
  },
  {
   "cell_type": "code",
   "execution_count": 17,
   "id": "ce4a4855",
   "metadata": {
    "execution": {
     "iopub.execute_input": "2024-10-02T09:36:53.936114Z",
     "iopub.status.busy": "2024-10-02T09:36:53.935531Z",
     "iopub.status.idle": "2024-10-02T09:36:54.795095Z",
     "shell.execute_reply": "2024-10-02T09:36:54.793892Z"
    },
    "papermill": {
     "duration": 0.878756,
     "end_time": "2024-10-02T09:36:54.798034",
     "exception": false,
     "start_time": "2024-10-02T09:36:53.919278",
     "status": "completed"
    },
    "tags": []
   },
   "outputs": [],
   "source": [
    "selector = SelectKBest(score_func=chi2, k=10)\n",
    "selector.fit(X_imputed, y)\n",
    "selected_features = selector.get_support(indices=True)\n",
    "X_new = X_imputed[:, selected_features]\n",
    "X_new_train, X_test, y_train, y_test = train_test_split(X_new, y, test_size=0.25)"
   ]
  },
  {
   "cell_type": "code",
   "execution_count": 18,
   "id": "ef965b8c",
   "metadata": {
    "execution": {
     "iopub.execute_input": "2024-10-02T09:36:54.819771Z",
     "iopub.status.busy": "2024-10-02T09:36:54.819332Z",
     "iopub.status.idle": "2024-10-02T09:36:54.827015Z",
     "shell.execute_reply": "2024-10-02T09:36:54.825621Z"
    },
    "papermill": {
     "duration": 0.022126,
     "end_time": "2024-10-02T09:36:54.829847",
     "exception": false,
     "start_time": "2024-10-02T09:36:54.807721",
     "status": "completed"
    },
    "tags": []
   },
   "outputs": [
    {
     "name": "stdout",
     "output_type": "stream",
     "text": [
      "[ 9 11 13 27 70 72 73 74 76 77]\n"
     ]
    }
   ],
   "source": [
    "print(selected_features)"
   ]
  },
  {
   "cell_type": "code",
   "execution_count": 19,
   "id": "d17c068d",
   "metadata": {
    "execution": {
     "iopub.execute_input": "2024-10-02T09:36:54.851037Z",
     "iopub.status.busy": "2024-10-02T09:36:54.850591Z",
     "iopub.status.idle": "2024-10-02T09:36:54.860726Z",
     "shell.execute_reply": "2024-10-02T09:36:54.859437Z"
    },
    "papermill": {
     "duration": 0.024241,
     "end_time": "2024-10-02T09:36:54.864030",
     "exception": false,
     "start_time": "2024-10-02T09:36:54.839789",
     "status": "completed"
    },
    "tags": []
   },
   "outputs": [
    {
     "data": {
      "text/plain": [
       "array([[  0.        ,   6.        ,   0.        , ...,   0.        ,\n",
       "          0.        ,   0.        ],\n",
       "       [ 31.4492376 ,   0.        ,  89.27877687, ...,   0.        ,\n",
       "          0.        ,   0.        ],\n",
       "       [150.        ,   0.        , 150.        , ...,   0.        ,\n",
       "          0.        ,   0.        ],\n",
       "       ...,\n",
       "       [ 21.92031022,   6.        ,   0.        , ...,   0.        ,\n",
       "          0.        ,   0.        ],\n",
       "       [  0.        , 128.        ,   0.        , ...,   0.        ,\n",
       "          0.        ,   0.        ],\n",
       "       [  0.        , 113.        ,   0.        , ...,   0.        ,\n",
       "          0.        ,   0.        ]])"
      ]
     },
     "execution_count": 19,
     "metadata": {},
     "output_type": "execute_result"
    }
   ],
   "source": [
    "X_new"
   ]
  },
  {
   "cell_type": "code",
   "execution_count": 20,
   "id": "844733d6",
   "metadata": {
    "execution": {
     "iopub.execute_input": "2024-10-02T09:36:54.885291Z",
     "iopub.status.busy": "2024-10-02T09:36:54.884871Z",
     "iopub.status.idle": "2024-10-02T09:36:54.898133Z",
     "shell.execute_reply": "2024-10-02T09:36:54.896927Z"
    },
    "papermill": {
     "duration": 0.026716,
     "end_time": "2024-10-02T09:36:54.900848",
     "exception": false,
     "start_time": "2024-10-02T09:36:54.874132",
     "status": "completed"
    },
    "tags": []
   },
   "outputs": [
    {
     "data": {
      "text/plain": [
       "array([0, 4, 3, 2, 1, 5])"
      ]
     },
     "execution_count": 20,
     "metadata": {},
     "output_type": "execute_result"
    }
   ],
   "source": [
    "y.unique()"
   ]
  },
  {
   "cell_type": "code",
   "execution_count": 21,
   "id": "5515bfc5",
   "metadata": {},
   "outputs": [],
   "source": [
    "def plot_confusion_matrix(test_y, predict_y):\n",
    "    C = confusion_matrix(test_y, predict_y)\n",
    "    print(\"Number of misclassified points \",(len(test_y)-np.trace(C))/len(test_y)*100)\n",
    "    # C = 6,6 matrix, each cell (i,j) represents number of points of class i are predicted class j\n",
    "    \n",
    "    A =(((C.T)/(C.sum(axis=1))).T)\n",
    "    #divid each element of the confusion matrix with the sum of elements in that column\n",
    "    \n",
    "    # C = [[1, 2],\n",
    "    #     [3, 4]]\n",
    "    # C.T = [[1, 3],\n",
    "    #        [2, 4]]\n",
    "    # C.sum(axis = 1)  axis=0 corresonds to columns and axis=1 corresponds to rows in two diamensional array\n",
    "    # C.sum(axix =1) = [[3, 7]]\n",
    "    # ((C.T)/(C.sum(axis=1))) = [[1/3, 3/7]\n",
    "    #                           [2/3, 4/7]]\n",
    "\n",
    "    # ((C.T)/(C.sum(axis=1))).T = [[1/3, 2/3]\n",
    "    #                           [3/7, 4/7]]\n",
    "    # sum of row elements = 1\n",
    "    \n",
    "    B =(C/C.sum(axis=0))\n",
    "    #divid each element of the confusion matrix with the sum of elements in that row\n",
    "    # C = [[1, 2],\n",
    "    #     [3, 4]]\n",
    "    # C.sum(axis = 0)  axis=0 corresonds to columns and axis=1 corresponds to rows in two diamensional array\n",
    "    # C.sum(axix =0) = [[4, 6]]\n",
    "    # (C/C.sum(axis=0)) = [[1/4, 2/6],\n",
    "    #                      [3/4, 4/6]] \n",
    "    \n",
    "    labels = [1,2,3,4,5,6]\n",
    "    cmap=sns.light_palette(\"green\")\n",
    "    # representing A in heatmap format\n",
    "    print(\"-\"*50, \"Confusion matrix\", \"-\"*50)\n",
    "    plt.figure(figsize=(10,5))\n",
    "    sns.heatmap(C, annot=True, cmap=cmap, fmt=\".3f\", xticklabels=labels, yticklabels=labels)\n",
    "    plt.xlabel('Predicted Class')\n",
    "    plt.ylabel('Original Class')\n",
    "    plt.show()\n",
    "\n",
    "    print(\"-\"*50, \"Precision matrix\", \"-\"*50)\n",
    "    plt.figure(figsize=(10,5))\n",
    "    sns.heatmap(B, annot=True, cmap=cmap, fmt=\".3f\", xticklabels=labels, yticklabels=labels)\n",
    "    plt.xlabel('Predicted Class')\n",
    "    plt.ylabel('Original Class')\n",
    "    plt.show()\n",
    "    print(\"Sum of columns in precision matrix\",B.sum(axis=0))\n",
    "    \n",
    "    # representing B in heatmap format\n",
    "    print(\"-\"*50, \"Recall matrix\"    , \"-\"*50)\n",
    "    plt.figure(figsize=(10,5))\n",
    "    sns.heatmap(A, annot=True, cmap=cmap, fmt=\".3f\", xticklabels=labels, yticklabels=labels)\n",
    "    plt.xlabel('Predicted Class')\n",
    "    plt.ylabel('Original Class')\n",
    "    plt.show()\n",
    "    print(\"Sum of rows in precision matrix\",A.sum(axis=1))"
   ]
  },
  {
   "cell_type": "markdown",
   "id": "3a2ecaf7",
   "metadata": {},
   "source": [
    "- How do we know if our model is going in the right direction?\n",
    "- We can have a model that assigns classes on a random (Basically no training is happening)\n",
    "- So any trained model should be way better than the random model\n",
    "- This is a multiclass setting and so we would be using log loss"
   ]
  },
  {
   "cell_type": "markdown",
   "id": "c2b3ab64",
   "metadata": {},
   "source": [
    "<h2> Random Model Benchmark </h2>"
   ]
  },
  {
   "cell_type": "code",
   "execution_count": null,
   "id": "a4984530",
   "metadata": {},
   "outputs": [],
   "source": [
    "# we need to generate 9 numbers and the sum of numbers should be 1\n",
    "# one solution is to genarate 9 numbers and divide each of the numbers by their sum\n",
    "# ref: https://stackoverflow.com/a/18662466/4084039\n",
    "\n",
    "test_data_len = X_test.shape[0]\n",
    "\n",
    "\n",
    "# Test-Set error.\n",
    "#we create a output array that has exactly same as the test data\n",
    "test_predicted_y = np.zeros((test_data_len,6))\n",
    "for i in range(test_data_len):\n",
    "    rand_probs = np.random.rand(1,6)\n",
    "    test_predicted_y[i] = ((rand_probs/sum(sum(rand_probs)))[0])\n",
    "print(\"Log loss on Test Data using Random Model\",log_loss(y_test,test_predicted_y, eps=1e-15))\n",
    "\n",
    "predicted_y =np.argmax(test_predicted_y, axis=1)\n",
    "plot_confusion_matrix(y_test, predicted_y+1)"
   ]
  },
  {
   "cell_type": "markdown",
   "id": "6d6a4443",
   "metadata": {},
   "source": [
    "<h2> Random Forest Classifier </h2>"
   ]
  },
  {
   "cell_type": "code",
   "execution_count": null,
   "id": "e2a49b38",
   "metadata": {
    "execution": {
     "iopub.execute_input": "2024-10-02T09:36:54.924825Z",
     "iopub.status.busy": "2024-10-02T09:36:54.924368Z",
     "iopub.status.idle": "2024-10-02T09:36:56.561834Z",
     "shell.execute_reply": "2024-10-02T09:36:56.560616Z"
    },
    "papermill": {
     "duration": 1.652344,
     "end_time": "2024-10-02T09:36:56.564649",
     "exception": false,
     "start_time": "2024-10-02T09:36:54.912305",
     "status": "completed"
    },
    "tags": []
   },
   "outputs": [],
   "source": [
    "# --------------------------------\n",
    "# default parameters \n",
    "# sklearn.ensemble.RandomForestClassifier(n_estimators=10, criterion=’gini’, max_depth=None, min_samples_split=2, \n",
    "# min_samples_leaf=1, min_weight_fraction_leaf=0.0, max_features=’auto’, max_leaf_nodes=None, min_impurity_decrease=0.0, \n",
    "# min_impurity_split=None, bootstrap=True, oob_score=False, n_jobs=1, random_state=None, verbose=0, warm_start=False, \n",
    "# class_weight=None)\n",
    "\n",
    "# Some of methods of RandomForestClassifier()\n",
    "# fit(X, y, [sample_weight])\tFit the SVM model according to the given training data.\n",
    "# predict(X)\tPerform classification on samples in X.\n",
    "# predict_proba (X)\tPerform classification on samples in X.\n",
    "\n",
    "# some of attributes of  RandomForestClassifier()\n",
    "# feature_importances_ : array of shape = [n_features]\n",
    "# The feature importances (the higher, the more important the feature).\n",
    "\n",
    "\n",
    "alpha=[15,20,25,30,45]\n",
    "test_log_error_array=[]\n",
    "for i in alpha:\n",
    "    r_cfl=RandomForestClassifier(n_estimators=i,random_state=42,n_jobs=-1, class_weight='balanced')\n",
    "    r_cfl.fit(X_new_train,y_train)\n",
    "    sig_clf = CalibratedClassifierCV(r_cfl, method=\"sigmoid\")\n",
    "    sig_clf.fit(X_new_train, y_train)\n",
    "    predict_y = sig_clf.predict_proba(X_test)\n",
    "    test_log_error_array.append(log_loss(y_test, predict_y, labels=r_cfl.classes_, eps=1e-15))\n",
    "\n",
    "for i in range(len(test_log_error_array)):\n",
    "    print ('log_loss for c = ',alpha[i],'is',test_log_error_array[i])\n",
    "\n",
    "\n",
    "best_alpha = np.argmin(test_log_error_array)\n",
    "\n",
    "fig, ax = plt.subplots()\n",
    "ax.plot(alpha, test_log_error_array,c='g')\n",
    "for i, txt in enumerate(np.round(test_log_error_array,3)):\n",
    "    ax.annotate((alpha[i],np.round(txt,3)), (alpha[i],test_log_error_array[i]))\n",
    "plt.grid()\n",
    "plt.title(\"Cross Validation Error for each alpha\")\n",
    "plt.xlabel(\"Alpha i's\")\n",
    "plt.ylabel(\"Error measure\")\n",
    "plt.show()\n",
    "\n",
    "r_cfl=RandomForestClassifier(n_estimators=alpha[best_alpha],random_state=42,n_jobs=-1, class_weight='balanced')\n",
    "r_cfl.fit(X_new_train,y_train)\n",
    "sig_clf = CalibratedClassifierCV(r_cfl, method=\"sigmoid\")\n",
    "sig_clf.fit(X_new_train, y_train)\n",
    "predict_y = sig_clf.predict_proba(X_new_train)\n",
    "print ('log loss for train data',(log_loss(y_train, predict_y, labels=sig_clf.classes_, eps=1e-15)))\n",
    "predict_y = sig_clf.predict_proba(X_test)\n",
    "print ('log loss for test data',(log_loss(y_test, predict_y, labels=sig_clf.classes_, eps=1e-15)))\n",
    "plot_confusion_matrix(y_test,sig_clf.predict(X_test))"
   ]
  },
  {
   "cell_type": "code",
   "execution_count": 24,
   "id": "28e35fbd",
   "metadata": {},
   "outputs": [
    {
     "name": "stdout",
     "output_type": "stream",
     "text": [
      "0.8177518824779415\n"
     ]
    }
   ],
   "source": [
    "from sklearn.metrics import accuracy_score\n",
    "y_test_pred = sig_clf.predict(X_test)\n",
    "print(accuracy_score(y_test, y_test_pred))"
   ]
  },
  {
   "cell_type": "markdown",
   "id": "75764418",
   "metadata": {},
   "source": [
    "<b>\n",
    "    \n",
    "- So far with just one parameter we can see good performance in our RandomForest Model and the test log loss seems to be < 0.35\n",
    "- We can use other parameters apart from n_estimators and see if the RandomForestClassifier improves\n",
    "\n"
   ]
  },
  {
   "cell_type": "code",
   "execution_count": 29,
   "id": "2b9b402b",
   "metadata": {},
   "outputs": [],
   "source": [
    "from sklearn.metrics import classification_report"
   ]
  },
  {
   "cell_type": "code",
   "execution_count": null,
   "id": "4b169386",
   "metadata": {},
   "outputs": [],
   "source": [
    "print(classification_report(y_test, y_test_pred, target_names=labels))"
   ]
  },
  {
   "cell_type": "code",
   "execution_count": 36,
   "id": "462c124b",
   "metadata": {},
   "outputs": [],
   "source": [
    "pickle.dump(sig_clf, open(r'C:\\Users\\Downloads\\ids_rf_model.pkl', 'wb'))"
   ]
  },
  {
   "cell_type": "markdown",
   "id": "4c2a135f",
   "metadata": {},
   "source": [
    "<h4> Decision Trees </h4>"
   ]
  },
  {
   "cell_type": "code",
   "execution_count": null,
   "id": "3cb84f4c",
   "metadata": {},
   "outputs": [],
   "source": [
    "from sklearn.tree import DecisionTreeClassifier\n",
    "# --------------------------------\n",
    "# default parameters \n",
    "# sklearn.ensemble.RandomForestClassifier(n_estimators=10, criterion=’gini’, max_depth=None, min_samples_split=2, \n",
    "# min_samples_leaf=1, min_weight_fraction_leaf=0.0, max_features=’auto’, max_leaf_nodes=None, min_impurity_decrease=0.0, \n",
    "# min_impurity_split=None, bootstrap=True, oob_score=False, n_jobs=1, random_state=None, verbose=0, warm_start=False, \n",
    "# class_weight=None)\n",
    "\n",
    "# Some of methods of RandomForestClassifier()\n",
    "# fit(X, y, [sample_weight])\tFit the SVM model according to the given training data.\n",
    "# predict(X)\tPerform classification on samples in X.\n",
    "# predict_proba (X)\tPerform classification on samples in X.\n",
    "\n",
    "# some of attributes of  RandomForestClassifier()\n",
    "# feature_importances_ : array of shape = [n_features]\n",
    "# The feature importances (the higher, the more important the feature).\n",
    "\n",
    "\n",
    "alpha=[2, 3, 4, 5, 7, 8 ,9]\n",
    "test_log_error_array=[]\n",
    "for i in alpha:\n",
    "    r_dt=DecisionTreeClassifier(criterion='gini', splitter='best', max_depth=i, min_samples_split=10, min_samples_leaf = 20, class_weight='balanced')\n",
    "    r_dt.fit(X_new_train,y_train)\n",
    "    sig_dt = CalibratedClassifierCV(r_dt, method=\"sigmoid\")\n",
    "    sig_dt.fit(X_new_train, y_train)\n",
    "    predict_y = sig_dt.predict_proba(X_test)\n",
    "    test_log_error_array.append(log_loss(y_test, predict_y, labels=r_cfl.classes_, eps=1e-15))\n",
    "\n",
    "for i in range(len(test_log_error_array)):\n",
    "    print ('log_loss for c = ',alpha[i],'is',test_log_error_array[i])\n",
    "\n",
    "\n",
    "best_alpha = np.argmin(test_log_error_array)\n",
    "\n",
    "fig, ax = plt.subplots()\n",
    "ax.plot(alpha, test_log_error_array,c='g')\n",
    "for i, txt in enumerate(np.round(test_log_error_array,3)):\n",
    "    ax.annotate((alpha[i],np.round(txt,3)), (alpha[i],test_log_error_array[i]))\n",
    "plt.grid()\n",
    "plt.title(\"Cross Validation Error for each alpha\")\n",
    "plt.xlabel(\"Alpha i's\")\n",
    "plt.ylabel(\"Error measure\")\n",
    "plt.show()\n",
    "\n",
    "r_dt==DecisionTreeClassifier(criterion='gini', splitter='best', max_depth=alpha[best_alpha], min_samples_split=10, min_samples_leaf = 20, class_weight='balanced')\n",
    "r_dt.fit(X_new_train,y_train)\n",
    "sig_dt = CalibratedClassifierCV(r_dt, method=\"sigmoid\")\n",
    "sig_dt.fit(X_new_train, y_train)\n",
    "predict_y = sig_dt.predict_proba(X_new_train)\n",
    "print ('log loss for train data',(log_loss(y_train, predict_y, labels=sig_dt.classes_, eps=1e-15)))\n",
    "predict_y = sig_dt.predict_proba(X_test)\n",
    "print ('log loss for test data',(log_loss(y_test, predict_y, labels=sig_dt.classes_, eps=1e-15)))\n",
    "plot_confusion_matrix(y_test,sig_dt.predict(X_test))"
   ]
  },
  {
   "cell_type": "code",
   "execution_count": 32,
   "id": "8ecd2f54",
   "metadata": {},
   "outputs": [
    {
     "name": "stdout",
     "output_type": "stream",
     "text": [
      "0.7940072527370998\n"
     ]
    }
   ],
   "source": [
    "from sklearn.metrics import accuracy_score\n",
    "y_test_pred = sig_dt.predict(X_test)\n",
    "print(accuracy_score(y_test, y_test_pred))"
   ]
  },
  {
   "cell_type": "code",
   "execution_count": null,
   "id": "c885ea27",
   "metadata": {},
   "outputs": [],
   "source": [
    "print(classification_report(y_test, y_test_pred, target_names=labels))"
   ]
  },
  {
   "cell_type": "code",
   "execution_count": 38,
   "id": "c1e7b614",
   "metadata": {},
   "outputs": [],
   "source": [
    "pickle.dump(sig_dt, open(r'C:\\Users\\Downloads\\ids_dt_model.pkl', 'wb'))"
   ]
  },
  {
   "cell_type": "markdown",
   "id": "049d9cbd",
   "metadata": {},
   "source": [
    "<h3> XGBOOST Classifier </h3>"
   ]
  },
  {
   "cell_type": "code",
   "execution_count": 53,
   "id": "db0ca2a8",
   "metadata": {},
   "outputs": [
    {
     "name": "stdout",
     "output_type": "stream",
     "text": [
      "[0.26223321 0.26223321 0.49997017 ... 0.26223321 0.49997017 0.26223321]\n"
     ]
    }
   ],
   "source": [
    "from sklearn.utils.class_weight import compute_class_weight\n",
    "class_weights = compute_class_weight('balanced', classes=np.unique(y_train), y=y_train)\n",
    "sample_weights = np.array([class_weights[label] for label in y_train])\n",
    "print(sample_weights)"
   ]
  },
  {
   "cell_type": "code",
   "execution_count": null,
   "id": "3817bf3f",
   "metadata": {},
   "outputs": [],
   "source": [
    "from sklearn.tree import DecisionTreeClassifier\n",
    "# --------------------------------\n",
    "# default parameters \n",
    "# sklearn.ensemble.RandomForestClassifier(n_estimators=10, criterion=’gini’, max_depth=None, min_samples_split=2, \n",
    "# min_samples_leaf=1, min_weight_fraction_leaf=0.0, max_features=’auto’, max_leaf_nodes=None, min_impurity_decrease=0.0, \n",
    "# min_impurity_split=None, bootstrap=True, oob_score=False, n_jobs=1, random_state=None, verbose=0, warm_start=False, \n",
    "# class_weight=None)\n",
    "\n",
    "# Some of methods of RandomForestClassifier()\n",
    "# fit(X, y, [sample_weight])\tFit the SVM model according to the given training data.\n",
    "# predict(X)\tPerform classification on samples in X.\n",
    "# predict_proba (X)\tPerform classification on samples in X.\n",
    "\n",
    "# some of attributes of  RandomForestClassifier()\n",
    "# feature_importances_ : array of shape = [n_features]\n",
    "# The feature importances (the higher, the more important the feature).\n",
    "\n",
    "\n",
    "alpha=[2, 3, 4, 5, 7, 8 ,9]\n",
    "test_log_error_array=[]\n",
    "for i in alpha:\n",
    "    xgb_model = xgb.XGBClassifier(objective='multi:softmax', num_class=len(y_train.value_counts()), use_label_encoder=False, eval_metric='mlogloss')\n",
    "\n",
    "    xgb_model.fit(X_new_train,y_train)\n",
    "    sig_xgb = CalibratedClassifierCV(xgb_model, method=\"sigmoid\")\n",
    "    sig_xgb.fit(X_new_train, y_train)\n",
    "    predict_y = sig_xgb.predict_proba(X_test)\n",
    "    test_log_error_array.append(log_loss(y_test, predict_y, labels=r_cfl.classes_, eps=1e-15))\n",
    "\n",
    "for i in range(len(test_log_error_array)):\n",
    "    print ('log_loss for c = ',alpha[i],'is',test_log_error_array[i])\n",
    "\n",
    "\n",
    "best_alpha = np.argmin(test_log_error_array)\n",
    "\n",
    "fig, ax = plt.subplots()\n",
    "ax.plot(alpha, test_log_error_array,c='g')\n",
    "for i, txt in enumerate(np.round(test_log_error_array,3)):\n",
    "    ax.annotate((alpha[i],np.round(txt,3)), (alpha[i],test_log_error_array[i]))\n",
    "plt.grid()\n",
    "plt.title(\"Cross Validation Error for each alpha\")\n",
    "plt.xlabel(\"Alpha i's\")\n",
    "plt.ylabel(\"Error measure\")\n",
    "plt.show()\n",
    "\n",
    "xgb_model = xgb.XGBClassifier(objective='multi:softmax', num_class=len(y_train.value_counts()), use_label_encoder=False, eval_metric='mlogloss')\n",
    "xgb_model.fit(X_new_train,y_train)\n",
    "sig_xgb = CalibratedClassifierCV(r_dt, method=\"sigmoid\")\n",
    "sig_xgb.fit(X_new_train, y_train)\n",
    "predict_y = sig_xgb.predict_proba(X_new_train)\n",
    "print ('log loss for train data',(log_loss(y_train, predict_y, labels=sig_dt.classes_, eps=1e-15)))\n",
    "predict_y = sig_dt.predict_proba(X_test)\n",
    "print ('log loss for test data',(log_loss(y_test, predict_y, labels=sig_dt.classes_, eps=1e-15)))\n",
    "plot_confusion_matrix(y_test,sig_xgb.predict(X_test))"
   ]
  },
  {
   "cell_type": "code",
   "execution_count": 41,
   "id": "85d9e4a7",
   "metadata": {},
   "outputs": [
    {
     "name": "stdout",
     "output_type": "stream",
     "text": [
      "0.7940072527370998\n"
     ]
    }
   ],
   "source": [
    "from sklearn.metrics import accuracy_score\n",
    "y_test_pred = sig_xgb.predict(X_test)\n",
    "print(accuracy_score(y_test, y_test_pred))"
   ]
  },
  {
   "cell_type": "code",
   "execution_count": null,
   "id": "50605407",
   "metadata": {},
   "outputs": [],
   "source": [
    "print(classification_report(y_test, y_test_pred, target_names=labels))"
   ]
  },
  {
   "cell_type": "code",
   "execution_count": 43,
   "id": "ed618309",
   "metadata": {},
   "outputs": [],
   "source": [
    "pickle.dump(sig_dt, open(r'C:\\Users\\Downloads\\ids_xgb_model.pkl', 'wb'))"
   ]
  }
 ],
 "metadata": {
  "kaggle": {
   "accelerator": "none",
   "dataSources": [
    {
     "datasetId": 3674161,
     "sourceId": 6376134,
     "sourceType": "datasetVersion"
    }
   ],
   "dockerImageVersionId": 30635,
   "isGpuEnabled": false,
   "isInternetEnabled": false,
   "language": "python",
   "sourceType": "notebook"
  },
  "kernelspec": {
   "display_name": "Python 3 (ipykernel)",
   "language": "python",
   "name": "python3"
  },
  "language_info": {
   "codemirror_mode": {
    "name": "ipython",
    "version": 3
   },
   "file_extension": ".py",
   "mimetype": "text/x-python",
   "name": "python",
   "nbconvert_exporter": "python",
   "pygments_lexer": "ipython3",
   "version": "3.10.10"
  },
  "papermill": {
   "default_parameters": {},
   "duration": 505.55762,
   "end_time": "2024-10-02T09:44:59.459348",
   "environment_variables": {},
   "exception": null,
   "input_path": "__notebook__.ipynb",
   "output_path": "__notebook__.ipynb",
   "parameters": {},
   "start_time": "2024-10-02T09:36:33.901728",
   "version": "2.4.0"
  }
 },
 "nbformat": 4,
 "nbformat_minor": 5
}
